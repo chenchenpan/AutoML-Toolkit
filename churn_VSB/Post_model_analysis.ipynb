{
 "cells": [
  {
   "cell_type": "code",
   "execution_count": 1,
   "metadata": {},
   "outputs": [
    {
     "ename": "KeyboardInterrupt",
     "evalue": "",
     "output_type": "error",
     "traceback": [
      "\u001B[1;31m---------------------------------------------------------------------------\u001B[0m",
      "\u001B[1;31mKeyboardInterrupt\u001B[0m                         Traceback (most recent call last)",
      "\u001B[1;32mC:\\Users\\CHENCH~1\\AppData\\Local\\Temp/ipykernel_31604/1394497081.py\u001B[0m in \u001B[0;36m<module>\u001B[1;34m\u001B[0m\n\u001B[0;32m      6\u001B[0m \u001B[1;32mimport\u001B[0m \u001B[0msklearn\u001B[0m\u001B[1;33m.\u001B[0m\u001B[0mmetrics\u001B[0m\u001B[1;33m\u001B[0m\u001B[1;33m\u001B[0m\u001B[0m\n\u001B[0;32m      7\u001B[0m \u001B[1;33m\u001B[0m\u001B[0m\n\u001B[1;32m----> 8\u001B[1;33m \u001B[1;32mfrom\u001B[0m \u001B[0manalysis_util\u001B[0m \u001B[1;32mimport\u001B[0m \u001B[0mread_file\u001B[0m\u001B[1;33m,\u001B[0m \u001B[0mload_all\u001B[0m\u001B[1;33m,\u001B[0m \u001B[0mget_best_trial\u001B[0m\u001B[1;33m\u001B[0m\u001B[1;33m\u001B[0m\u001B[0m\n\u001B[0m\u001B[0;32m      9\u001B[0m \u001B[1;32mfrom\u001B[0m \u001B[0mencode_data\u001B[0m \u001B[1;32mimport\u001B[0m \u001B[0mEncoder\u001B[0m\u001B[1;33m,\u001B[0m \u001B[0mMapping\u001B[0m\u001B[1;33m\u001B[0m\u001B[1;33m\u001B[0m\u001B[0m\n\u001B[0;32m     10\u001B[0m \u001B[1;33m\u001B[0m\u001B[0m\n",
      "\u001B[1;32m~\\OneDrive - Microsoft\\Desktop\\Projects\\dsvm\\AutoML-Toolkit\\analysis_util.py\u001B[0m in \u001B[0;36m<module>\u001B[1;34m\u001B[0m\n\u001B[0;32m      4\u001B[0m \u001B[1;32mimport\u001B[0m \u001B[0mpickle\u001B[0m \u001B[1;32mas\u001B[0m \u001B[0mpkl\u001B[0m\u001B[1;33m\u001B[0m\u001B[1;33m\u001B[0m\u001B[0m\n\u001B[0;32m      5\u001B[0m \u001B[1;32mimport\u001B[0m \u001B[0mnumpy\u001B[0m \u001B[1;32mas\u001B[0m \u001B[0mnp\u001B[0m\u001B[1;33m\u001B[0m\u001B[1;33m\u001B[0m\u001B[0m\n\u001B[1;32m----> 6\u001B[1;33m \u001B[1;32mfrom\u001B[0m \u001B[0mmodeling\u001B[0m \u001B[1;32mimport\u001B[0m \u001B[0mget_model_cls\u001B[0m\u001B[1;33m\u001B[0m\u001B[1;33m\u001B[0m\u001B[0m\n\u001B[0m\u001B[0;32m      7\u001B[0m \u001B[1;33m\u001B[0m\u001B[0m\n\u001B[0;32m      8\u001B[0m \u001B[1;33m\u001B[0m\u001B[0m\n",
      "\u001B[1;32m~\\OneDrive - Microsoft\\Desktop\\Projects\\dsvm\\AutoML-Toolkit\\modeling.py\u001B[0m in \u001B[0;36m<module>\u001B[1;34m\u001B[0m\n\u001B[0;32m      1\u001B[0m \u001B[1;32mimport\u001B[0m \u001B[0mos\u001B[0m\u001B[1;33m\u001B[0m\u001B[1;33m\u001B[0m\u001B[0m\n\u001B[1;32m----> 2\u001B[1;33m \u001B[1;32mimport\u001B[0m \u001B[0mtensorflow\u001B[0m \u001B[1;32mas\u001B[0m \u001B[0mtf\u001B[0m\u001B[1;33m\u001B[0m\u001B[1;33m\u001B[0m\u001B[0m\n\u001B[0m\u001B[0;32m      3\u001B[0m \u001B[1;31m# print(tf.__version__)\u001B[0m\u001B[1;33m\u001B[0m\u001B[1;33m\u001B[0m\u001B[0m\n\u001B[0;32m      4\u001B[0m \u001B[1;31m# print(tf.keras)\u001B[0m\u001B[1;33m\u001B[0m\u001B[1;33m\u001B[0m\u001B[0m\n\u001B[0;32m      5\u001B[0m \u001B[1;31m# from tf import keras\u001B[0m\u001B[1;33m\u001B[0m\u001B[1;33m\u001B[0m\u001B[0m\n",
      "\u001B[1;32mc:\\users\\chenchenpan\\onedrive - microsoft\\desktop\\projects\\venv\\lib\\site-packages\\tensorflow\\__init__.py\u001B[0m in \u001B[0;36m<module>\u001B[1;34m\u001B[0m\n\u001B[0;32m     39\u001B[0m \u001B[1;32mimport\u001B[0m \u001B[0msys\u001B[0m \u001B[1;32mas\u001B[0m \u001B[0m_sys\u001B[0m\u001B[1;33m\u001B[0m\u001B[1;33m\u001B[0m\u001B[0m\n\u001B[0;32m     40\u001B[0m \u001B[1;33m\u001B[0m\u001B[0m\n\u001B[1;32m---> 41\u001B[1;33m \u001B[1;32mfrom\u001B[0m \u001B[0mtensorflow\u001B[0m\u001B[1;33m.\u001B[0m\u001B[0mpython\u001B[0m\u001B[1;33m.\u001B[0m\u001B[0mtools\u001B[0m \u001B[1;32mimport\u001B[0m \u001B[0mmodule_util\u001B[0m \u001B[1;32mas\u001B[0m \u001B[0m_module_util\u001B[0m\u001B[1;33m\u001B[0m\u001B[1;33m\u001B[0m\u001B[0m\n\u001B[0m\u001B[0;32m     42\u001B[0m \u001B[1;32mfrom\u001B[0m \u001B[0mtensorflow\u001B[0m\u001B[1;33m.\u001B[0m\u001B[0mpython\u001B[0m\u001B[1;33m.\u001B[0m\u001B[0mutil\u001B[0m\u001B[1;33m.\u001B[0m\u001B[0mlazy_loader\u001B[0m \u001B[1;32mimport\u001B[0m \u001B[0mLazyLoader\u001B[0m \u001B[1;32mas\u001B[0m \u001B[0m_LazyLoader\u001B[0m\u001B[1;33m\u001B[0m\u001B[1;33m\u001B[0m\u001B[0m\n\u001B[0;32m     43\u001B[0m \u001B[1;33m\u001B[0m\u001B[0m\n",
      "\u001B[1;32mc:\\users\\chenchenpan\\onedrive - microsoft\\desktop\\projects\\venv\\lib\\site-packages\\tensorflow\\python\\__init__.py\u001B[0m in \u001B[0;36m<module>\u001B[1;34m\u001B[0m\n\u001B[0;32m     44\u001B[0m \u001B[1;33m\u001B[0m\u001B[0m\n\u001B[0;32m     45\u001B[0m \u001B[1;31m# Bring in subpackages.\u001B[0m\u001B[1;33m\u001B[0m\u001B[1;33m\u001B[0m\u001B[0m\n\u001B[1;32m---> 46\u001B[1;33m \u001B[1;32mfrom\u001B[0m \u001B[0mtensorflow\u001B[0m\u001B[1;33m.\u001B[0m\u001B[0mpython\u001B[0m \u001B[1;32mimport\u001B[0m \u001B[0mdata\u001B[0m\u001B[1;33m\u001B[0m\u001B[1;33m\u001B[0m\u001B[0m\n\u001B[0m\u001B[0;32m     47\u001B[0m \u001B[1;32mfrom\u001B[0m \u001B[0mtensorflow\u001B[0m\u001B[1;33m.\u001B[0m\u001B[0mpython\u001B[0m \u001B[1;32mimport\u001B[0m \u001B[0mdistribute\u001B[0m\u001B[1;33m\u001B[0m\u001B[1;33m\u001B[0m\u001B[0m\n\u001B[0;32m     48\u001B[0m \u001B[1;31m# from tensorflow.python import keras\u001B[0m\u001B[1;33m\u001B[0m\u001B[1;33m\u001B[0m\u001B[0m\n",
      "\u001B[1;32mc:\\users\\chenchenpan\\onedrive - microsoft\\desktop\\projects\\venv\\lib\\site-packages\\tensorflow\\python\\data\\__init__.py\u001B[0m in \u001B[0;36m<module>\u001B[1;34m\u001B[0m\n\u001B[0;32m     23\u001B[0m \u001B[1;33m\u001B[0m\u001B[0m\n\u001B[0;32m     24\u001B[0m \u001B[1;31m# pylint: disable=unused-import\u001B[0m\u001B[1;33m\u001B[0m\u001B[1;33m\u001B[0m\u001B[0m\n\u001B[1;32m---> 25\u001B[1;33m \u001B[1;32mfrom\u001B[0m \u001B[0mtensorflow\u001B[0m\u001B[1;33m.\u001B[0m\u001B[0mpython\u001B[0m\u001B[1;33m.\u001B[0m\u001B[0mdata\u001B[0m \u001B[1;32mimport\u001B[0m \u001B[0mexperimental\u001B[0m\u001B[1;33m\u001B[0m\u001B[1;33m\u001B[0m\u001B[0m\n\u001B[0m\u001B[0;32m     26\u001B[0m \u001B[1;32mfrom\u001B[0m \u001B[0mtensorflow\u001B[0m\u001B[1;33m.\u001B[0m\u001B[0mpython\u001B[0m\u001B[1;33m.\u001B[0m\u001B[0mdata\u001B[0m\u001B[1;33m.\u001B[0m\u001B[0mops\u001B[0m\u001B[1;33m.\u001B[0m\u001B[0mdataset_ops\u001B[0m \u001B[1;32mimport\u001B[0m \u001B[0mAUTOTUNE\u001B[0m\u001B[1;33m\u001B[0m\u001B[1;33m\u001B[0m\u001B[0m\n\u001B[0;32m     27\u001B[0m \u001B[1;32mfrom\u001B[0m \u001B[0mtensorflow\u001B[0m\u001B[1;33m.\u001B[0m\u001B[0mpython\u001B[0m\u001B[1;33m.\u001B[0m\u001B[0mdata\u001B[0m\u001B[1;33m.\u001B[0m\u001B[0mops\u001B[0m\u001B[1;33m.\u001B[0m\u001B[0mdataset_ops\u001B[0m \u001B[1;32mimport\u001B[0m \u001B[0mDataset\u001B[0m\u001B[1;33m\u001B[0m\u001B[1;33m\u001B[0m\u001B[0m\n",
      "\u001B[1;32mc:\\users\\chenchenpan\\onedrive - microsoft\\desktop\\projects\\venv\\lib\\site-packages\\tensorflow\\python\\data\\experimental\\__init__.py\u001B[0m in \u001B[0;36m<module>\u001B[1;34m\u001B[0m\n\u001B[0;32m    129\u001B[0m \u001B[1;32mfrom\u001B[0m \u001B[0mtensorflow\u001B[0m\u001B[1;33m.\u001B[0m\u001B[0mpython\u001B[0m\u001B[1;33m.\u001B[0m\u001B[0mdata\u001B[0m\u001B[1;33m.\u001B[0m\u001B[0mexperimental\u001B[0m\u001B[1;33m.\u001B[0m\u001B[0mops\u001B[0m\u001B[1;33m.\u001B[0m\u001B[0mprefetching_ops\u001B[0m \u001B[1;32mimport\u001B[0m \u001B[0mprefetch_to_device\u001B[0m\u001B[1;33m\u001B[0m\u001B[1;33m\u001B[0m\u001B[0m\n\u001B[0;32m    130\u001B[0m \u001B[1;32mfrom\u001B[0m \u001B[0mtensorflow\u001B[0m\u001B[1;33m.\u001B[0m\u001B[0mpython\u001B[0m\u001B[1;33m.\u001B[0m\u001B[0mdata\u001B[0m\u001B[1;33m.\u001B[0m\u001B[0mexperimental\u001B[0m\u001B[1;33m.\u001B[0m\u001B[0mops\u001B[0m\u001B[1;33m.\u001B[0m\u001B[0mrandom_ops\u001B[0m \u001B[1;32mimport\u001B[0m \u001B[0mRandomDataset\u001B[0m\u001B[1;33m\u001B[0m\u001B[1;33m\u001B[0m\u001B[0m\n\u001B[1;32m--> 131\u001B[1;33m \u001B[1;32mfrom\u001B[0m \u001B[0mtensorflow\u001B[0m\u001B[1;33m.\u001B[0m\u001B[0mpython\u001B[0m\u001B[1;33m.\u001B[0m\u001B[0mdata\u001B[0m\u001B[1;33m.\u001B[0m\u001B[0mexperimental\u001B[0m\u001B[1;33m.\u001B[0m\u001B[0mops\u001B[0m\u001B[1;33m.\u001B[0m\u001B[0mreaders\u001B[0m \u001B[1;32mimport\u001B[0m \u001B[0mCsvDataset\u001B[0m\u001B[1;33m\u001B[0m\u001B[1;33m\u001B[0m\u001B[0m\n\u001B[0m\u001B[0;32m    132\u001B[0m \u001B[1;32mfrom\u001B[0m \u001B[0mtensorflow\u001B[0m\u001B[1;33m.\u001B[0m\u001B[0mpython\u001B[0m\u001B[1;33m.\u001B[0m\u001B[0mdata\u001B[0m\u001B[1;33m.\u001B[0m\u001B[0mexperimental\u001B[0m\u001B[1;33m.\u001B[0m\u001B[0mops\u001B[0m\u001B[1;33m.\u001B[0m\u001B[0mreaders\u001B[0m \u001B[1;32mimport\u001B[0m \u001B[0mmake_batched_features_dataset\u001B[0m\u001B[1;33m\u001B[0m\u001B[1;33m\u001B[0m\u001B[0m\n\u001B[0;32m    133\u001B[0m \u001B[1;32mfrom\u001B[0m \u001B[0mtensorflow\u001B[0m\u001B[1;33m.\u001B[0m\u001B[0mpython\u001B[0m\u001B[1;33m.\u001B[0m\u001B[0mdata\u001B[0m\u001B[1;33m.\u001B[0m\u001B[0mexperimental\u001B[0m\u001B[1;33m.\u001B[0m\u001B[0mops\u001B[0m\u001B[1;33m.\u001B[0m\u001B[0mreaders\u001B[0m \u001B[1;32mimport\u001B[0m \u001B[0mmake_csv_dataset\u001B[0m\u001B[1;33m\u001B[0m\u001B[1;33m\u001B[0m\u001B[0m\n",
      "\u001B[1;32mC:\\Program Files\\WindowsApps\\PythonSoftwareFoundation.Python.3.9_3.9.2800.0_x64__qbz5n2kfra8p0\\lib\\importlib\\_bootstrap.py\u001B[0m in \u001B[0;36m_find_and_load\u001B[1;34m(name, import_)\u001B[0m\n",
      "\u001B[1;32mC:\\Program Files\\WindowsApps\\PythonSoftwareFoundation.Python.3.9_3.9.2800.0_x64__qbz5n2kfra8p0\\lib\\importlib\\_bootstrap.py\u001B[0m in \u001B[0;36m_find_and_load_unlocked\u001B[1;34m(name, import_)\u001B[0m\n",
      "\u001B[1;32mC:\\Program Files\\WindowsApps\\PythonSoftwareFoundation.Python.3.9_3.9.2800.0_x64__qbz5n2kfra8p0\\lib\\importlib\\_bootstrap.py\u001B[0m in \u001B[0;36m_load_unlocked\u001B[1;34m(spec)\u001B[0m\n",
      "\u001B[1;32mC:\\Program Files\\WindowsApps\\PythonSoftwareFoundation.Python.3.9_3.9.2800.0_x64__qbz5n2kfra8p0\\lib\\importlib\\_bootstrap_external.py\u001B[0m in \u001B[0;36mexec_module\u001B[1;34m(self, module)\u001B[0m\n",
      "\u001B[1;32mC:\\Program Files\\WindowsApps\\PythonSoftwareFoundation.Python.3.9_3.9.2800.0_x64__qbz5n2kfra8p0\\lib\\importlib\\_bootstrap_external.py\u001B[0m in \u001B[0;36mget_code\u001B[1;34m(self, fullname)\u001B[0m\n",
      "\u001B[1;32mC:\\Program Files\\WindowsApps\\PythonSoftwareFoundation.Python.3.9_3.9.2800.0_x64__qbz5n2kfra8p0\\lib\\importlib\\_bootstrap_external.py\u001B[0m in \u001B[0;36mget_data\u001B[1;34m(self, path)\u001B[0m\n",
      "\u001B[1;31mKeyboardInterrupt\u001B[0m: "
     ]
    }
   ],
   "source": [
    "import os\n",
    "import json\n",
    "import pickle as pkl\n",
    "import numpy as np\n",
    "import pandas as pd\n",
    "import sklearn.metrics\n",
    "\n",
    "from analysis_util import read_file, load_all, get_best_trial\n",
    "from encode_data import Encoder, Mapping\n",
    "\n",
    "def shuffle_col(df, col, seed=None):\n",
    "    new_df = df.copy()\n",
    "    if seed is None: \n",
    "        new_df[col] = np.random.permutation(new_df[col])\n",
    "    else:\n",
    "        np.random.seed(seed)\n",
    "        new_df[col] = np.random.permutation(new_df[col])\n",
    "    return new_df\n",
    "\n",
    "def evaluate(df, encoder, model):\n",
    "    y, X_struc, X_text = encoder.transform(df)\n",
    "    print(X_struc.shape)\n",
    "    print(X_text.shape)\n",
    "    preds = model.predict(X_struc, X_text)\n",
    "    acc = sklearn.metrics.accuracy_score(y, preds)\n",
    "    return acc\n"
   ]
  },
  {
   "cell_type": "code",
   "execution_count": 62,
   "metadata": {},
   "outputs": [],
   "source": [
    "output_dir = '/Users/cicipan/projects/Amplify-AutoML-Toolkit/demo/outputs/lr_outputs/'\n",
    "data_file = '/Users/cicipan/projects/Amplify-AutoML-Toolkit/demo/data/raw_data/comb_dev.tsv'\n",
    "df = read_file(data_file)"
   ]
  },
  {
   "cell_type": "code",
   "execution_count": 63,
   "metadata": {},
   "outputs": [
    {
     "name": "stdout",
     "output_type": "stream",
     "text": [
      "best metric: 0.235, best_trial: /Users/cicipan/projects/Amplify-AutoML-Toolkit/demo/outputs/lr_outputs/model_2\n"
     ]
    }
   ],
   "source": [
    "best_trial = get_best_trial(output_dir)\n",
    "model, encoder = load_all(best_trial)"
   ]
  },
  {
   "cell_type": "code",
   "execution_count": 64,
   "metadata": {},
   "outputs": [
    {
     "data": {
      "text/plain": [
       "'tfidf'"
      ]
     },
     "execution_count": 64,
     "metadata": {},
     "output_type": "execute_result"
    }
   ],
   "source": [
    "encoder.text_config.mode"
   ]
  },
  {
   "cell_type": "code",
   "execution_count": 65,
   "metadata": {},
   "outputs": [
    {
     "data": {
      "text/plain": [
       "['desc_clean', 'desc_len', 'goal', 'category_slug', 'label']"
      ]
     },
     "execution_count": 65,
     "metadata": {},
     "output_type": "execute_result"
    }
   ],
   "source": [
    "cols = list(df.columns)\n",
    "cols"
   ]
  },
  {
   "cell_type": "code",
   "execution_count": 66,
   "metadata": {},
   "outputs": [
    {
     "data": {
      "text/html": [
       "<div>\n",
       "<style scoped>\n",
       "    .dataframe tbody tr th:only-of-type {\n",
       "        vertical-align: middle;\n",
       "    }\n",
       "\n",
       "    .dataframe tbody tr th {\n",
       "        vertical-align: top;\n",
       "    }\n",
       "\n",
       "    .dataframe thead th {\n",
       "        text-align: right;\n",
       "    }\n",
       "</style>\n",
       "<table border=\"1\" class=\"dataframe\">\n",
       "  <thead>\n",
       "    <tr style=\"text-align: right;\">\n",
       "      <th></th>\n",
       "      <th>desc_clean</th>\n",
       "      <th>desc_len</th>\n",
       "      <th>goal</th>\n",
       "      <th>category_slug</th>\n",
       "      <th>label</th>\n",
       "    </tr>\n",
       "  </thead>\n",
       "  <tbody>\n",
       "    <tr>\n",
       "      <th>0</th>\n",
       "      <td>The RAYGUN GOTHIC ROCKETSHIP is an immers...</td>\n",
       "      <td>19</td>\n",
       "      <td>2500.00</td>\n",
       "      <td>art/conceptual art</td>\n",
       "      <td>0</td>\n",
       "    </tr>\n",
       "    <tr>\n",
       "      <th>1</th>\n",
       "      <td>Decibel Festival is a non-profit, four-day ann...</td>\n",
       "      <td>17</td>\n",
       "      <td>10000.00</td>\n",
       "      <td>art/digital art</td>\n",
       "      <td>0</td>\n",
       "    </tr>\n",
       "    <tr>\n",
       "      <th>2</th>\n",
       "      <td>An art project that investigates habitats and ...</td>\n",
       "      <td>21</td>\n",
       "      <td>2000.00</td>\n",
       "      <td>art/sculpture</td>\n",
       "      <td>1</td>\n",
       "    </tr>\n",
       "    <tr>\n",
       "      <th>3</th>\n",
       "      <td>I want to give away 300 paintings in three mon...</td>\n",
       "      <td>20</td>\n",
       "      <td>1824.79</td>\n",
       "      <td>art/painting</td>\n",
       "      <td>1</td>\n",
       "    </tr>\n",
       "    <tr>\n",
       "      <th>4</th>\n",
       "      <td>Miché Fambro records the long-awaited Jazz Cro...</td>\n",
       "      <td>21</td>\n",
       "      <td>5000.00</td>\n",
       "      <td>music/jazz</td>\n",
       "      <td>0</td>\n",
       "    </tr>\n",
       "  </tbody>\n",
       "</table>\n",
       "</div>"
      ],
      "text/plain": [
       "                                          desc_clean  desc_len      goal  \\\n",
       "0       The RAYGUN GOTHIC ROCKETSHIP is an immers...        19   2500.00   \n",
       "1  Decibel Festival is a non-profit, four-day ann...        17  10000.00   \n",
       "2  An art project that investigates habitats and ...        21   2000.00   \n",
       "3  I want to give away 300 paintings in three mon...        20   1824.79   \n",
       "4  Miché Fambro records the long-awaited Jazz Cro...        21   5000.00   \n",
       "\n",
       "        category_slug  label  \n",
       "0  art/conceptual art      0  \n",
       "1     art/digital art      0  \n",
       "2       art/sculpture      1  \n",
       "3        art/painting      1  \n",
       "4          music/jazz      0  "
      ]
     },
     "execution_count": 66,
     "metadata": {},
     "output_type": "execute_result"
    }
   ],
   "source": [
    "df.head()"
   ]
  },
  {
   "cell_type": "code",
   "execution_count": 67,
   "metadata": {},
   "outputs": [
    {
     "data": {
      "text/html": [
       "<div>\n",
       "<style scoped>\n",
       "    .dataframe tbody tr th:only-of-type {\n",
       "        vertical-align: middle;\n",
       "    }\n",
       "\n",
       "    .dataframe tbody tr th {\n",
       "        vertical-align: top;\n",
       "    }\n",
       "\n",
       "    .dataframe thead th {\n",
       "        text-align: right;\n",
       "    }\n",
       "</style>\n",
       "<table border=\"1\" class=\"dataframe\">\n",
       "  <thead>\n",
       "    <tr style=\"text-align: right;\">\n",
       "      <th></th>\n",
       "      <th>desc_clean</th>\n",
       "      <th>desc_len</th>\n",
       "      <th>goal</th>\n",
       "      <th>category_slug</th>\n",
       "      <th>label</th>\n",
       "    </tr>\n",
       "  </thead>\n",
       "  <tbody>\n",
       "    <tr>\n",
       "      <th>0</th>\n",
       "      <td>The premier heavy metal fest in the USA. Bring...</td>\n",
       "      <td>19</td>\n",
       "      <td>2500.00</td>\n",
       "      <td>art/conceptual art</td>\n",
       "      <td>0</td>\n",
       "    </tr>\n",
       "    <tr>\n",
       "      <th>1</th>\n",
       "      <td>Two brothers search a swathe of small town bar...</td>\n",
       "      <td>17</td>\n",
       "      <td>10000.00</td>\n",
       "      <td>art/digital art</td>\n",
       "      <td>0</td>\n",
       "    </tr>\n",
       "    <tr>\n",
       "      <th>2</th>\n",
       "      <td>I am 15 years old and have managed to get my m...</td>\n",
       "      <td>21</td>\n",
       "      <td>2000.00</td>\n",
       "      <td>art/sculpture</td>\n",
       "      <td>1</td>\n",
       "    </tr>\n",
       "    <tr>\n",
       "      <th>3</th>\n",
       "      <td>STEM video games for non-profits is our Maine ...</td>\n",
       "      <td>20</td>\n",
       "      <td>1824.79</td>\n",
       "      <td>art/painting</td>\n",
       "      <td>1</td>\n",
       "    </tr>\n",
       "    <tr>\n",
       "      <th>4</th>\n",
       "      <td>BODYlogue:Taking Space is a powerful dance con...</td>\n",
       "      <td>21</td>\n",
       "      <td>5000.00</td>\n",
       "      <td>music/jazz</td>\n",
       "      <td>0</td>\n",
       "    </tr>\n",
       "  </tbody>\n",
       "</table>\n",
       "</div>"
      ],
      "text/plain": [
       "                                          desc_clean  desc_len      goal  \\\n",
       "0  The premier heavy metal fest in the USA. Bring...        19   2500.00   \n",
       "1  Two brothers search a swathe of small town bar...        17  10000.00   \n",
       "2  I am 15 years old and have managed to get my m...        21   2000.00   \n",
       "3  STEM video games for non-profits is our Maine ...        20   1824.79   \n",
       "4  BODYlogue:Taking Space is a powerful dance con...        21   5000.00   \n",
       "\n",
       "        category_slug  label  \n",
       "0  art/conceptual art      0  \n",
       "1     art/digital art      0  \n",
       "2       art/sculpture      1  \n",
       "3        art/painting      1  \n",
       "4          music/jazz      0  "
      ]
     },
     "execution_count": 67,
     "metadata": {},
     "output_type": "execute_result"
    }
   ],
   "source": [
    "shuffle_col(df, 'desc_clean').head()"
   ]
  },
  {
   "cell_type": "code",
   "execution_count": 68,
   "metadata": {},
   "outputs": [
    {
     "name": "stdout",
     "output_type": "stream",
     "text": [
      "Starting to encode dataset...\n",
      "Starting to encode structural data...\n",
      "Except boolean, categorical and text input data after encoding, the shape is (2000, 2)\n",
      "we have 2 columns.\n",
      "Non-text input data after encoding, the shape is (2000, 146)\n",
      "We have 146 columns.\n",
      "complete encoding part of structural data!\n",
      "Starting to encode text inputs...\n",
      "Found 2000 texts.\n",
      "tfidf X_text shape: (2000, 1000)\n",
      "complete encoding part of textual data!\n",
      "(2000, 146)\n",
      "(2000, 1000)\n"
     ]
    },
    {
     "name": "stderr",
     "output_type": "stream",
     "text": [
      "/Users/cicipan/projects/envs/lab/lib/python3.6/site-packages/sklearn/preprocessing/label.py:252: DataConversionWarning: A column-vector y was passed when a 1d array was expected. Please change the shape of y to (n_samples, ), for example using ravel().\n",
      "  y = column_or_1d(y, warn=True)\n"
     ]
    },
    {
     "data": {
      "text/plain": [
       "0.765"
      ]
     },
     "execution_count": 68,
     "metadata": {},
     "output_type": "execute_result"
    }
   ],
   "source": [
    "original_metrics = evaluate(df, encoder, model)\n",
    "original_metrics"
   ]
  },
  {
   "cell_type": "code",
   "execution_count": 69,
   "metadata": {},
   "outputs": [
    {
     "name": "stdout",
     "output_type": "stream",
     "text": [
      "Starting to encode dataset...\n",
      "Starting to encode structural data...\n",
      "Except boolean, categorical and text input data after encoding, the shape is (2000, 2)\n",
      "we have 2 columns.\n",
      "Non-text input data after encoding, the shape is (2000, 146)\n",
      "We have 146 columns.\n",
      "complete encoding part of structural data!\n",
      "Starting to encode text inputs...\n",
      "Found 2000 texts.\n",
      "tfidf X_text shape: (2000, 1000)\n",
      "complete encoding part of textual data!\n",
      "(2000, 146)\n",
      "(2000, 1000)\n",
      "Starting to encode dataset...\n",
      "Starting to encode structural data...\n",
      "Except boolean, categorical and text input data after encoding, the shape is (2000, 2)\n",
      "we have 2 columns.\n",
      "Non-text input data after encoding, the shape is (2000, 146)\n",
      "We have 146 columns.\n",
      "complete encoding part of structural data!\n",
      "Starting to encode text inputs...\n",
      "Found 2000 texts.\n"
     ]
    },
    {
     "name": "stderr",
     "output_type": "stream",
     "text": [
      "/Users/cicipan/projects/envs/lab/lib/python3.6/site-packages/sklearn/preprocessing/label.py:252: DataConversionWarning: A column-vector y was passed when a 1d array was expected. Please change the shape of y to (n_samples, ), for example using ravel().\n",
      "  y = column_or_1d(y, warn=True)\n",
      "/Users/cicipan/projects/envs/lab/lib/python3.6/site-packages/sklearn/preprocessing/label.py:252: DataConversionWarning: A column-vector y was passed when a 1d array was expected. Please change the shape of y to (n_samples, ), for example using ravel().\n",
      "  y = column_or_1d(y, warn=True)\n"
     ]
    },
    {
     "name": "stdout",
     "output_type": "stream",
     "text": [
      "tfidf X_text shape: (2000, 1000)\n",
      "complete encoding part of textual data!\n",
      "(2000, 146)\n",
      "(2000, 1000)\n",
      "Starting to encode dataset...\n",
      "Starting to encode structural data...\n",
      "Except boolean, categorical and text input data after encoding, the shape is (2000, 2)\n",
      "we have 2 columns.\n",
      "Non-text input data after encoding, the shape is (2000, 146)\n",
      "We have 146 columns.\n",
      "complete encoding part of structural data!\n",
      "Starting to encode text inputs...\n",
      "Found 2000 texts.\n",
      "tfidf X_text shape: (2000, 1000)\n",
      "complete encoding part of textual data!\n",
      "(2000, 146)\n",
      "(2000, 1000)\n",
      "Starting to encode dataset...\n",
      "Starting to encode structural data...\n",
      "Except boolean, categorical and text input data after encoding, the shape is (2000, 2)\n",
      "we have 2 columns.\n",
      "Non-text input data after encoding, the shape is (2000, 146)\n",
      "We have 146 columns.\n",
      "complete encoding part of structural data!\n",
      "Starting to encode text inputs...\n",
      "Found 2000 texts.\n"
     ]
    },
    {
     "name": "stderr",
     "output_type": "stream",
     "text": [
      "/Users/cicipan/projects/envs/lab/lib/python3.6/site-packages/sklearn/preprocessing/label.py:252: DataConversionWarning: A column-vector y was passed when a 1d array was expected. Please change the shape of y to (n_samples, ), for example using ravel().\n",
      "  y = column_or_1d(y, warn=True)\n",
      "/Users/cicipan/projects/envs/lab/lib/python3.6/site-packages/sklearn/preprocessing/label.py:252: DataConversionWarning: A column-vector y was passed when a 1d array was expected. Please change the shape of y to (n_samples, ), for example using ravel().\n",
      "  y = column_or_1d(y, warn=True)\n"
     ]
    },
    {
     "name": "stdout",
     "output_type": "stream",
     "text": [
      "tfidf X_text shape: (2000, 1000)\n",
      "complete encoding part of textual data!\n",
      "(2000, 146)\n",
      "(2000, 1000)\n",
      "Starting to encode dataset...\n",
      "Starting to encode structural data...\n",
      "Except boolean, categorical and text input data after encoding, the shape is (2000, 2)\n",
      "we have 2 columns.\n",
      "Non-text input data after encoding, the shape is (2000, 146)\n",
      "We have 146 columns.\n",
      "complete encoding part of structural data!\n",
      "Starting to encode text inputs...\n",
      "Found 2000 texts.\n",
      "tfidf X_text shape: (2000, 1000)\n",
      "complete encoding part of textual data!\n",
      "(2000, 146)\n",
      "(2000, 1000)\n",
      "Starting to encode dataset...\n",
      "Starting to encode structural data...\n",
      "Except boolean, categorical and text input data after encoding, the shape is (2000, 2)\n",
      "we have 2 columns.\n"
     ]
    },
    {
     "name": "stderr",
     "output_type": "stream",
     "text": [
      "/Users/cicipan/projects/envs/lab/lib/python3.6/site-packages/sklearn/preprocessing/label.py:252: DataConversionWarning: A column-vector y was passed when a 1d array was expected. Please change the shape of y to (n_samples, ), for example using ravel().\n",
      "  y = column_or_1d(y, warn=True)\n",
      "/Users/cicipan/projects/envs/lab/lib/python3.6/site-packages/sklearn/preprocessing/label.py:252: DataConversionWarning: A column-vector y was passed when a 1d array was expected. Please change the shape of y to (n_samples, ), for example using ravel().\n",
      "  y = column_or_1d(y, warn=True)\n"
     ]
    },
    {
     "name": "stdout",
     "output_type": "stream",
     "text": [
      "Non-text input data after encoding, the shape is (2000, 146)\n",
      "We have 146 columns.\n",
      "complete encoding part of structural data!\n",
      "Starting to encode text inputs...\n",
      "Found 2000 texts.\n",
      "tfidf X_text shape: (2000, 1000)\n",
      "complete encoding part of textual data!\n",
      "(2000, 146)\n",
      "(2000, 1000)\n",
      "Starting to encode dataset...\n",
      "Starting to encode structural data...\n",
      "Except boolean, categorical and text input data after encoding, the shape is (2000, 2)\n",
      "we have 2 columns.\n",
      "Non-text input data after encoding, the shape is (2000, 146)\n",
      "We have 146 columns.\n",
      "complete encoding part of structural data!\n",
      "Starting to encode text inputs...\n",
      "Found 2000 texts.\n"
     ]
    },
    {
     "name": "stderr",
     "output_type": "stream",
     "text": [
      "/Users/cicipan/projects/envs/lab/lib/python3.6/site-packages/sklearn/preprocessing/label.py:252: DataConversionWarning: A column-vector y was passed when a 1d array was expected. Please change the shape of y to (n_samples, ), for example using ravel().\n",
      "  y = column_or_1d(y, warn=True)\n",
      "/Users/cicipan/projects/envs/lab/lib/python3.6/site-packages/sklearn/preprocessing/label.py:252: DataConversionWarning: A column-vector y was passed when a 1d array was expected. Please change the shape of y to (n_samples, ), for example using ravel().\n",
      "  y = column_or_1d(y, warn=True)\n"
     ]
    },
    {
     "name": "stdout",
     "output_type": "stream",
     "text": [
      "tfidf X_text shape: (2000, 1000)\n",
      "complete encoding part of textual data!\n",
      "(2000, 146)\n",
      "(2000, 1000)\n",
      "Starting to encode dataset...\n",
      "Starting to encode structural data...\n",
      "Except boolean, categorical and text input data after encoding, the shape is (2000, 2)\n",
      "we have 2 columns.\n",
      "Non-text input data after encoding, the shape is (2000, 146)\n",
      "We have 146 columns.\n",
      "complete encoding part of structural data!\n",
      "Starting to encode text inputs...\n",
      "Found 2000 texts.\n",
      "tfidf X_text shape: (2000, 1000)\n",
      "complete encoding part of textual data!\n",
      "(2000, 146)\n",
      "(2000, 1000)\n",
      "Starting to encode dataset...\n",
      "Starting to encode structural data...\n",
      "Except boolean, categorical and text input data after encoding, the shape is (2000, 2)\n",
      "we have 2 columns.\n",
      "Non-text input data after encoding, the shape is (2000, 146)\n",
      "We have 146 columns.\n",
      "complete encoding part of structural data!\n",
      "Starting to encode text inputs...\n"
     ]
    },
    {
     "name": "stderr",
     "output_type": "stream",
     "text": [
      "/Users/cicipan/projects/envs/lab/lib/python3.6/site-packages/sklearn/preprocessing/label.py:252: DataConversionWarning: A column-vector y was passed when a 1d array was expected. Please change the shape of y to (n_samples, ), for example using ravel().\n",
      "  y = column_or_1d(y, warn=True)\n",
      "/Users/cicipan/projects/envs/lab/lib/python3.6/site-packages/sklearn/preprocessing/label.py:252: DataConversionWarning: A column-vector y was passed when a 1d array was expected. Please change the shape of y to (n_samples, ), for example using ravel().\n",
      "  y = column_or_1d(y, warn=True)\n"
     ]
    },
    {
     "name": "stdout",
     "output_type": "stream",
     "text": [
      "Found 2000 texts.\n",
      "tfidf X_text shape: (2000, 1000)\n",
      "complete encoding part of textual data!\n",
      "(2000, 146)\n",
      "(2000, 1000)\n",
      "Starting to encode dataset...\n",
      "Starting to encode structural data...\n",
      "Except boolean, categorical and text input data after encoding, the shape is (2000, 2)\n",
      "we have 2 columns.\n",
      "Non-text input data after encoding, the shape is (2000, 146)\n",
      "We have 146 columns.\n",
      "complete encoding part of structural data!\n",
      "Starting to encode text inputs...\n",
      "Found 2000 texts.\n",
      "tfidf X_text shape: (2000, 1000)\n",
      "complete encoding part of textual data!\n",
      "(2000, 146)\n",
      "(2000, 1000)\n",
      "Starting to encode dataset...\n",
      "Starting to encode structural data...\n",
      "Except boolean, categorical and text input data after encoding, the shape is (2000, 2)\n",
      "we have 2 columns.\n",
      "Non-text input data after encoding, the shape is (2000, 146)\n",
      "We have 146 columns.\n",
      "complete encoding part of structural data!\n",
      "Starting to encode text inputs...\n",
      "Found 2000 texts.\n",
      "tfidf X_text shape: (2000, 1000)\n",
      "complete encoding part of textual data!\n",
      "(2000, 146)\n",
      "(2000, 1000)\n",
      "Starting to encode dataset...\n",
      "Starting to encode structural data...\n",
      "Except boolean, categorical and text input data after encoding, the shape is (2000, 2)\n",
      "we have 2 columns.\n",
      "Non-text input data after encoding, the shape is (2000, 146)\n",
      "We have 146 columns.\n",
      "complete encoding part of structural data!\n",
      "Starting to encode text inputs...\n",
      "Found 2000 texts.\n"
     ]
    },
    {
     "name": "stderr",
     "output_type": "stream",
     "text": [
      "/Users/cicipan/projects/envs/lab/lib/python3.6/site-packages/sklearn/preprocessing/label.py:252: DataConversionWarning: A column-vector y was passed when a 1d array was expected. Please change the shape of y to (n_samples, ), for example using ravel().\n",
      "  y = column_or_1d(y, warn=True)\n",
      "/Users/cicipan/projects/envs/lab/lib/python3.6/site-packages/sklearn/preprocessing/label.py:252: DataConversionWarning: A column-vector y was passed when a 1d array was expected. Please change the shape of y to (n_samples, ), for example using ravel().\n",
      "  y = column_or_1d(y, warn=True)\n"
     ]
    },
    {
     "name": "stdout",
     "output_type": "stream",
     "text": [
      "tfidf X_text shape: (2000, 1000)\n",
      "complete encoding part of textual data!\n",
      "(2000, 146)\n",
      "(2000, 1000)\n",
      "Starting to encode dataset...\n",
      "Starting to encode structural data...\n",
      "Except boolean, categorical and text input data after encoding, the shape is (2000, 2)\n",
      "we have 2 columns.\n",
      "Non-text input data after encoding, the shape is (2000, 146)\n",
      "We have 146 columns.\n",
      "complete encoding part of structural data!\n",
      "Starting to encode text inputs...\n",
      "Found 2000 texts.\n",
      "tfidf X_text shape: (2000, 1000)\n",
      "complete encoding part of textual data!\n",
      "(2000, 146)\n",
      "(2000, 1000)\n",
      "Starting to encode dataset...\n",
      "Starting to encode structural data...\n",
      "Except boolean, categorical and text input data after encoding, the shape is (2000, 2)\n",
      "we have 2 columns.\n",
      "Non-text input data after encoding, the shape is (2000, 146)\n",
      "We have 146 columns.\n",
      "complete encoding part of structural data!\n",
      "Starting to encode text inputs...\n",
      "Found 2000 texts.\n"
     ]
    },
    {
     "name": "stderr",
     "output_type": "stream",
     "text": [
      "/Users/cicipan/projects/envs/lab/lib/python3.6/site-packages/sklearn/preprocessing/label.py:252: DataConversionWarning: A column-vector y was passed when a 1d array was expected. Please change the shape of y to (n_samples, ), for example using ravel().\n",
      "  y = column_or_1d(y, warn=True)\n",
      "/Users/cicipan/projects/envs/lab/lib/python3.6/site-packages/sklearn/preprocessing/label.py:252: DataConversionWarning: A column-vector y was passed when a 1d array was expected. Please change the shape of y to (n_samples, ), for example using ravel().\n",
      "  y = column_or_1d(y, warn=True)\n"
     ]
    },
    {
     "name": "stdout",
     "output_type": "stream",
     "text": [
      "tfidf X_text shape: (2000, 1000)\n",
      "complete encoding part of textual data!\n",
      "(2000, 146)\n",
      "(2000, 1000)\n",
      "Starting to encode dataset...\n",
      "Starting to encode structural data...\n",
      "Except boolean, categorical and text input data after encoding, the shape is (2000, 2)\n",
      "we have 2 columns.\n",
      "Non-text input data after encoding, the shape is (2000, 146)\n",
      "We have 146 columns.\n",
      "complete encoding part of structural data!\n",
      "Starting to encode text inputs...\n",
      "Found 2000 texts.\n",
      "tfidf X_text shape: (2000, 1000)\n",
      "complete encoding part of textual data!\n",
      "(2000, 146)\n",
      "(2000, 1000)\n",
      "Starting to encode dataset...\n",
      "Starting to encode structural data...\n",
      "Except boolean, categorical and text input data after encoding, the shape is (2000, 2)\n",
      "we have 2 columns.\n",
      "Non-text input data after encoding, the shape is (2000, 146)\n",
      "We have 146 columns.\n",
      "complete encoding part of structural data!\n",
      "Starting to encode text inputs...\n",
      "Found 2000 texts.\n"
     ]
    },
    {
     "name": "stderr",
     "output_type": "stream",
     "text": [
      "/Users/cicipan/projects/envs/lab/lib/python3.6/site-packages/sklearn/preprocessing/label.py:252: DataConversionWarning: A column-vector y was passed when a 1d array was expected. Please change the shape of y to (n_samples, ), for example using ravel().\n",
      "  y = column_or_1d(y, warn=True)\n",
      "/Users/cicipan/projects/envs/lab/lib/python3.6/site-packages/sklearn/preprocessing/label.py:252: DataConversionWarning: A column-vector y was passed when a 1d array was expected. Please change the shape of y to (n_samples, ), for example using ravel().\n",
      "  y = column_or_1d(y, warn=True)\n"
     ]
    },
    {
     "name": "stdout",
     "output_type": "stream",
     "text": [
      "tfidf X_text shape: (2000, 1000)\n",
      "complete encoding part of textual data!\n",
      "(2000, 146)\n",
      "(2000, 1000)\n",
      "Starting to encode dataset...\n",
      "Starting to encode structural data...\n",
      "Except boolean, categorical and text input data after encoding, the shape is (2000, 2)\n",
      "we have 2 columns.\n",
      "Non-text input data after encoding, the shape is (2000, 146)\n",
      "We have 146 columns.\n",
      "complete encoding part of structural data!\n",
      "Starting to encode text inputs...\n",
      "Found 2000 texts.\n",
      "tfidf X_text shape: (2000, 1000)\n",
      "complete encoding part of textual data!\n",
      "(2000, 146)\n",
      "(2000, 1000)\n",
      "Starting to encode dataset...\n",
      "Starting to encode structural data...\n",
      "Except boolean, categorical and text input data after encoding, the shape is (2000, 2)\n",
      "we have 2 columns.\n",
      "Non-text input data after encoding, the shape is (2000, 146)\n",
      "We have 146 columns.\n",
      "complete encoding part of structural data!\n",
      "Starting to encode text inputs...\n",
      "Found 2000 texts.\n"
     ]
    },
    {
     "name": "stderr",
     "output_type": "stream",
     "text": [
      "/Users/cicipan/projects/envs/lab/lib/python3.6/site-packages/sklearn/preprocessing/label.py:252: DataConversionWarning: A column-vector y was passed when a 1d array was expected. Please change the shape of y to (n_samples, ), for example using ravel().\n",
      "  y = column_or_1d(y, warn=True)\n",
      "/Users/cicipan/projects/envs/lab/lib/python3.6/site-packages/sklearn/preprocessing/label.py:252: DataConversionWarning: A column-vector y was passed when a 1d array was expected. Please change the shape of y to (n_samples, ), for example using ravel().\n",
      "  y = column_or_1d(y, warn=True)\n"
     ]
    },
    {
     "name": "stdout",
     "output_type": "stream",
     "text": [
      "tfidf X_text shape: (2000, 1000)\n",
      "complete encoding part of textual data!\n",
      "(2000, 146)\n",
      "(2000, 1000)\n",
      "Starting to encode dataset...\n",
      "Starting to encode structural data...\n",
      "Except boolean, categorical and text input data after encoding, the shape is (2000, 2)\n",
      "we have 2 columns.\n",
      "Non-text input data after encoding, the shape is (2000, 146)\n",
      "We have 146 columns.\n",
      "complete encoding part of structural data!\n",
      "Starting to encode text inputs...\n",
      "Found 2000 texts.\n",
      "tfidf X_text shape: (2000, 1000)\n",
      "complete encoding part of textual data!\n",
      "(2000, 146)\n",
      "(2000, 1000)\n",
      "Starting to encode dataset...\n",
      "Starting to encode structural data...\n",
      "Except boolean, categorical and text input data after encoding, the shape is (2000, 2)\n",
      "we have 2 columns.\n",
      "Non-text input data after encoding, the shape is (2000, 146)\n",
      "We have 146 columns.\n",
      "complete encoding part of structural data!\n",
      "Starting to encode text inputs...\n",
      "Found 2000 texts.\n"
     ]
    },
    {
     "name": "stderr",
     "output_type": "stream",
     "text": [
      "/Users/cicipan/projects/envs/lab/lib/python3.6/site-packages/sklearn/preprocessing/label.py:252: DataConversionWarning: A column-vector y was passed when a 1d array was expected. Please change the shape of y to (n_samples, ), for example using ravel().\n",
      "  y = column_or_1d(y, warn=True)\n",
      "/Users/cicipan/projects/envs/lab/lib/python3.6/site-packages/sklearn/preprocessing/label.py:252: DataConversionWarning: A column-vector y was passed when a 1d array was expected. Please change the shape of y to (n_samples, ), for example using ravel().\n",
      "  y = column_or_1d(y, warn=True)\n"
     ]
    },
    {
     "name": "stdout",
     "output_type": "stream",
     "text": [
      "tfidf X_text shape: (2000, 1000)\n",
      "complete encoding part of textual data!\n",
      "(2000, 146)\n",
      "(2000, 1000)\n",
      "Starting to encode dataset...\n",
      "Starting to encode structural data...\n",
      "Except boolean, categorical and text input data after encoding, the shape is (2000, 2)\n",
      "we have 2 columns.\n",
      "Non-text input data after encoding, the shape is (2000, 146)\n",
      "We have 146 columns.\n",
      "complete encoding part of structural data!\n",
      "Starting to encode text inputs...\n",
      "Found 2000 texts.\n",
      "tfidf X_text shape: (2000, 1000)\n",
      "complete encoding part of textual data!\n",
      "(2000, 146)\n",
      "(2000, 1000)\n",
      "Starting to encode dataset...\n",
      "Starting to encode structural data...\n",
      "Except boolean, categorical and text input data after encoding, the shape is (2000, 2)\n",
      "we have 2 columns.\n",
      "Non-text input data after encoding, the shape is (2000, 146)\n",
      "We have 146 columns.\n",
      "complete encoding part of structural data!\n",
      "Starting to encode text inputs...\n",
      "Found 2000 texts.\n"
     ]
    },
    {
     "name": "stderr",
     "output_type": "stream",
     "text": [
      "/Users/cicipan/projects/envs/lab/lib/python3.6/site-packages/sklearn/preprocessing/label.py:252: DataConversionWarning: A column-vector y was passed when a 1d array was expected. Please change the shape of y to (n_samples, ), for example using ravel().\n",
      "  y = column_or_1d(y, warn=True)\n",
      "/Users/cicipan/projects/envs/lab/lib/python3.6/site-packages/sklearn/preprocessing/label.py:252: DataConversionWarning: A column-vector y was passed when a 1d array was expected. Please change the shape of y to (n_samples, ), for example using ravel().\n",
      "  y = column_or_1d(y, warn=True)\n"
     ]
    },
    {
     "name": "stdout",
     "output_type": "stream",
     "text": [
      "tfidf X_text shape: (2000, 1000)\n",
      "complete encoding part of textual data!\n",
      "(2000, 146)\n",
      "(2000, 1000)\n",
      "Starting to encode dataset...\n",
      "Starting to encode structural data...\n",
      "Except boolean, categorical and text input data after encoding, the shape is (2000, 2)\n",
      "we have 2 columns.\n",
      "Non-text input data after encoding, the shape is (2000, 146)\n",
      "We have 146 columns.\n",
      "complete encoding part of structural data!\n",
      "Starting to encode text inputs...\n",
      "Found 2000 texts.\n",
      "tfidf X_text shape: (2000, 1000)\n",
      "complete encoding part of textual data!\n",
      "(2000, 146)\n",
      "(2000, 1000)\n",
      "Starting to encode dataset...\n",
      "Starting to encode structural data...\n",
      "Except boolean, categorical and text input data after encoding, the shape is (2000, 2)\n",
      "we have 2 columns.\n",
      "Non-text input data after encoding, the shape is (2000, 146)\n",
      "We have 146 columns.\n",
      "complete encoding part of structural data!\n",
      "Starting to encode text inputs...\n",
      "Found 2000 texts.\n"
     ]
    },
    {
     "name": "stderr",
     "output_type": "stream",
     "text": [
      "/Users/cicipan/projects/envs/lab/lib/python3.6/site-packages/sklearn/preprocessing/label.py:252: DataConversionWarning: A column-vector y was passed when a 1d array was expected. Please change the shape of y to (n_samples, ), for example using ravel().\n",
      "  y = column_or_1d(y, warn=True)\n",
      "/Users/cicipan/projects/envs/lab/lib/python3.6/site-packages/sklearn/preprocessing/label.py:252: DataConversionWarning: A column-vector y was passed when a 1d array was expected. Please change the shape of y to (n_samples, ), for example using ravel().\n",
      "  y = column_or_1d(y, warn=True)\n"
     ]
    },
    {
     "name": "stdout",
     "output_type": "stream",
     "text": [
      "tfidf X_text shape: (2000, 1000)\n",
      "complete encoding part of textual data!\n",
      "(2000, 146)\n",
      "(2000, 1000)\n",
      "Starting to encode dataset...\n",
      "Starting to encode structural data...\n",
      "Except boolean, categorical and text input data after encoding, the shape is (2000, 2)\n",
      "we have 2 columns.\n",
      "Non-text input data after encoding, the shape is (2000, 146)\n",
      "We have 146 columns.\n",
      "complete encoding part of structural data!\n",
      "Starting to encode text inputs...\n",
      "Found 2000 texts.\n",
      "tfidf X_text shape: (2000, 1000)\n",
      "complete encoding part of textual data!\n",
      "(2000, 146)\n",
      "(2000, 1000)\n",
      "Starting to encode dataset...\n"
     ]
    },
    {
     "name": "stderr",
     "output_type": "stream",
     "text": [
      "/Users/cicipan/projects/envs/lab/lib/python3.6/site-packages/sklearn/preprocessing/label.py:252: DataConversionWarning: A column-vector y was passed when a 1d array was expected. Please change the shape of y to (n_samples, ), for example using ravel().\n",
      "  y = column_or_1d(y, warn=True)\n",
      "/Users/cicipan/projects/envs/lab/lib/python3.6/site-packages/sklearn/preprocessing/label.py:252: DataConversionWarning: A column-vector y was passed when a 1d array was expected. Please change the shape of y to (n_samples, ), for example using ravel().\n",
      "  y = column_or_1d(y, warn=True)\n"
     ]
    },
    {
     "name": "stdout",
     "output_type": "stream",
     "text": [
      "Starting to encode structural data...\n",
      "Except boolean, categorical and text input data after encoding, the shape is (2000, 2)\n",
      "we have 2 columns.\n",
      "Non-text input data after encoding, the shape is (2000, 146)\n",
      "We have 146 columns.\n",
      "complete encoding part of structural data!\n",
      "Starting to encode text inputs...\n",
      "Found 2000 texts.\n",
      "tfidf X_text shape: (2000, 1000)\n",
      "complete encoding part of textual data!\n",
      "(2000, 146)\n",
      "(2000, 1000)\n",
      "Starting to encode dataset...\n",
      "Starting to encode structural data...\n",
      "Except boolean, categorical and text input data after encoding, the shape is (2000, 2)\n",
      "we have 2 columns.\n",
      "Non-text input data after encoding, the shape is (2000, 146)\n",
      "We have 146 columns.\n",
      "complete encoding part of structural data!\n",
      "Starting to encode text inputs...\n",
      "Found 2000 texts.\n"
     ]
    },
    {
     "name": "stderr",
     "output_type": "stream",
     "text": [
      "/Users/cicipan/projects/envs/lab/lib/python3.6/site-packages/sklearn/preprocessing/label.py:252: DataConversionWarning: A column-vector y was passed when a 1d array was expected. Please change the shape of y to (n_samples, ), for example using ravel().\n",
      "  y = column_or_1d(y, warn=True)\n",
      "/Users/cicipan/projects/envs/lab/lib/python3.6/site-packages/sklearn/preprocessing/label.py:252: DataConversionWarning: A column-vector y was passed when a 1d array was expected. Please change the shape of y to (n_samples, ), for example using ravel().\n",
      "  y = column_or_1d(y, warn=True)\n"
     ]
    },
    {
     "name": "stdout",
     "output_type": "stream",
     "text": [
      "tfidf X_text shape: (2000, 1000)\n",
      "complete encoding part of textual data!\n",
      "(2000, 146)\n",
      "(2000, 1000)\n",
      "Starting to encode dataset...\n",
      "Starting to encode structural data...\n",
      "Except boolean, categorical and text input data after encoding, the shape is (2000, 2)\n",
      "we have 2 columns.\n",
      "Non-text input data after encoding, the shape is (2000, 146)\n",
      "We have 146 columns.\n",
      "complete encoding part of structural data!\n",
      "Starting to encode text inputs...\n",
      "Found 2000 texts.\n",
      "tfidf X_text shape: (2000, 1000)\n",
      "complete encoding part of textual data!\n",
      "(2000, 146)\n",
      "(2000, 1000)\n",
      "Starting to encode dataset...\n",
      "Starting to encode structural data...\n",
      "Except boolean, categorical and text input data after encoding, the shape is (2000, 2)\n",
      "we have 2 columns.\n",
      "Non-text input data after encoding, the shape is (2000, 146)\n",
      "We have 146 columns.\n",
      "complete encoding part of structural data!\n",
      "Starting to encode text inputs...\n",
      "Found 2000 texts.\n"
     ]
    },
    {
     "name": "stderr",
     "output_type": "stream",
     "text": [
      "/Users/cicipan/projects/envs/lab/lib/python3.6/site-packages/sklearn/preprocessing/label.py:252: DataConversionWarning: A column-vector y was passed when a 1d array was expected. Please change the shape of y to (n_samples, ), for example using ravel().\n",
      "  y = column_or_1d(y, warn=True)\n",
      "/Users/cicipan/projects/envs/lab/lib/python3.6/site-packages/sklearn/preprocessing/label.py:252: DataConversionWarning: A column-vector y was passed when a 1d array was expected. Please change the shape of y to (n_samples, ), for example using ravel().\n",
      "  y = column_or_1d(y, warn=True)\n"
     ]
    },
    {
     "name": "stdout",
     "output_type": "stream",
     "text": [
      "tfidf X_text shape: (2000, 1000)\n",
      "complete encoding part of textual data!\n",
      "(2000, 146)\n",
      "(2000, 1000)\n",
      "Starting to encode dataset...\n",
      "Starting to encode structural data...\n",
      "Except boolean, categorical and text input data after encoding, the shape is (2000, 2)\n",
      "we have 2 columns.\n",
      "Non-text input data after encoding, the shape is (2000, 146)\n",
      "We have 146 columns.\n",
      "complete encoding part of structural data!\n",
      "Starting to encode text inputs...\n",
      "Found 2000 texts.\n",
      "tfidf X_text shape: (2000, 1000)\n",
      "complete encoding part of textual data!\n",
      "(2000, 146)\n",
      "(2000, 1000)\n",
      "Starting to encode dataset...\n",
      "Starting to encode structural data...\n",
      "Except boolean, categorical and text input data after encoding, the shape is (2000, 2)\n",
      "we have 2 columns.\n",
      "Non-text input data after encoding, the shape is (2000, 146)\n",
      "We have 146 columns.\n",
      "complete encoding part of structural data!\n",
      "Starting to encode text inputs...\n",
      "Found 2000 texts.\n"
     ]
    },
    {
     "name": "stderr",
     "output_type": "stream",
     "text": [
      "/Users/cicipan/projects/envs/lab/lib/python3.6/site-packages/sklearn/preprocessing/label.py:252: DataConversionWarning: A column-vector y was passed when a 1d array was expected. Please change the shape of y to (n_samples, ), for example using ravel().\n",
      "  y = column_or_1d(y, warn=True)\n",
      "/Users/cicipan/projects/envs/lab/lib/python3.6/site-packages/sklearn/preprocessing/label.py:252: DataConversionWarning: A column-vector y was passed when a 1d array was expected. Please change the shape of y to (n_samples, ), for example using ravel().\n",
      "  y = column_or_1d(y, warn=True)\n"
     ]
    },
    {
     "name": "stdout",
     "output_type": "stream",
     "text": [
      "tfidf X_text shape: (2000, 1000)\n",
      "complete encoding part of textual data!\n",
      "(2000, 146)\n",
      "(2000, 1000)\n",
      "Starting to encode dataset...\n",
      "Starting to encode structural data...\n",
      "Except boolean, categorical and text input data after encoding, the shape is (2000, 2)\n",
      "we have 2 columns.\n",
      "Non-text input data after encoding, the shape is (2000, 146)\n",
      "We have 146 columns.\n",
      "complete encoding part of structural data!\n",
      "Starting to encode text inputs...\n",
      "Found 2000 texts.\n",
      "tfidf X_text shape: (2000, 1000)\n",
      "complete encoding part of textual data!\n",
      "(2000, 146)\n",
      "(2000, 1000)\n",
      "Starting to encode dataset...\n",
      "Starting to encode structural data...\n",
      "Except boolean, categorical and text input data after encoding, the shape is (2000, 2)\n",
      "we have 2 columns.\n",
      "Non-text input data after encoding, the shape is (2000, 146)\n",
      "We have 146 columns.\n",
      "complete encoding part of structural data!\n",
      "Starting to encode text inputs...\n",
      "Found 2000 texts.\n"
     ]
    },
    {
     "name": "stderr",
     "output_type": "stream",
     "text": [
      "/Users/cicipan/projects/envs/lab/lib/python3.6/site-packages/sklearn/preprocessing/label.py:252: DataConversionWarning: A column-vector y was passed when a 1d array was expected. Please change the shape of y to (n_samples, ), for example using ravel().\n",
      "  y = column_or_1d(y, warn=True)\n",
      "/Users/cicipan/projects/envs/lab/lib/python3.6/site-packages/sklearn/preprocessing/label.py:252: DataConversionWarning: A column-vector y was passed when a 1d array was expected. Please change the shape of y to (n_samples, ), for example using ravel().\n",
      "  y = column_or_1d(y, warn=True)\n"
     ]
    },
    {
     "name": "stdout",
     "output_type": "stream",
     "text": [
      "tfidf X_text shape: (2000, 1000)\n",
      "complete encoding part of textual data!\n",
      "(2000, 146)\n",
      "(2000, 1000)\n",
      "Starting to encode dataset...\n",
      "Starting to encode structural data...\n",
      "Except boolean, categorical and text input data after encoding, the shape is (2000, 2)\n",
      "we have 2 columns.\n",
      "Non-text input data after encoding, the shape is (2000, 146)\n",
      "We have 146 columns.\n",
      "complete encoding part of structural data!\n",
      "Starting to encode text inputs...\n",
      "Found 2000 texts.\n",
      "tfidf X_text shape: (2000, 1000)\n",
      "complete encoding part of textual data!\n",
      "(2000, 146)\n",
      "(2000, 1000)\n",
      "Starting to encode dataset...\n",
      "Starting to encode structural data...\n",
      "Except boolean, categorical and text input data after encoding, the shape is (2000, 2)\n",
      "we have 2 columns.\n",
      "Non-text input data after encoding, the shape is (2000, 146)\n",
      "We have 146 columns.\n",
      "complete encoding part of structural data!\n",
      "Starting to encode text inputs...\n"
     ]
    },
    {
     "name": "stderr",
     "output_type": "stream",
     "text": [
      "/Users/cicipan/projects/envs/lab/lib/python3.6/site-packages/sklearn/preprocessing/label.py:252: DataConversionWarning: A column-vector y was passed when a 1d array was expected. Please change the shape of y to (n_samples, ), for example using ravel().\n",
      "  y = column_or_1d(y, warn=True)\n",
      "/Users/cicipan/projects/envs/lab/lib/python3.6/site-packages/sklearn/preprocessing/label.py:252: DataConversionWarning: A column-vector y was passed when a 1d array was expected. Please change the shape of y to (n_samples, ), for example using ravel().\n",
      "  y = column_or_1d(y, warn=True)\n"
     ]
    },
    {
     "name": "stdout",
     "output_type": "stream",
     "text": [
      "Found 2000 texts.\n",
      "tfidf X_text shape: (2000, 1000)\n",
      "complete encoding part of textual data!\n",
      "(2000, 146)\n",
      "(2000, 1000)\n",
      "Starting to encode dataset...\n",
      "Starting to encode structural data...\n",
      "Except boolean, categorical and text input data after encoding, the shape is (2000, 2)\n",
      "we have 2 columns.\n",
      "Non-text input data after encoding, the shape is (2000, 146)\n",
      "We have 146 columns.\n",
      "complete encoding part of structural data!\n",
      "Starting to encode text inputs...\n",
      "Found 2000 texts.\n",
      "tfidf X_text shape: (2000, 1000)\n",
      "complete encoding part of textual data!\n",
      "(2000, 146)\n",
      "(2000, 1000)\n",
      "Starting to encode dataset...\n",
      "Starting to encode structural data...\n",
      "Except boolean, categorical and text input data after encoding, the shape is (2000, 2)\n",
      "we have 2 columns.\n",
      "Non-text input data after encoding, the shape is (2000, 146)\n",
      "We have 146 columns.\n",
      "complete encoding part of structural data!\n",
      "Starting to encode text inputs...\n",
      "Found 2000 texts.\n",
      "tfidf X_text shape: (2000, 1000)\n",
      "complete encoding part of textual data!\n",
      "(2000, 146)\n",
      "(2000, 1000)\n",
      "Starting to encode dataset...\n",
      "Starting to encode structural data...\n",
      "Except boolean, categorical and text input data after encoding, the shape is (2000, 2)\n",
      "we have 2 columns.\n",
      "Non-text input data after encoding, the shape is (2000, 146)\n",
      "We have 146 columns.\n",
      "complete encoding part of structural data!\n",
      "Starting to encode text inputs...\n",
      "Found 2000 texts.\n"
     ]
    },
    {
     "name": "stderr",
     "output_type": "stream",
     "text": [
      "/Users/cicipan/projects/envs/lab/lib/python3.6/site-packages/sklearn/preprocessing/label.py:252: DataConversionWarning: A column-vector y was passed when a 1d array was expected. Please change the shape of y to (n_samples, ), for example using ravel().\n",
      "  y = column_or_1d(y, warn=True)\n",
      "/Users/cicipan/projects/envs/lab/lib/python3.6/site-packages/sklearn/preprocessing/label.py:252: DataConversionWarning: A column-vector y was passed when a 1d array was expected. Please change the shape of y to (n_samples, ), for example using ravel().\n",
      "  y = column_or_1d(y, warn=True)\n"
     ]
    },
    {
     "name": "stdout",
     "output_type": "stream",
     "text": [
      "tfidf X_text shape: (2000, 1000)\n",
      "complete encoding part of textual data!\n",
      "(2000, 146)\n",
      "(2000, 1000)\n",
      "Starting to encode dataset...\n",
      "Starting to encode structural data...\n",
      "Except boolean, categorical and text input data after encoding, the shape is (2000, 2)\n",
      "we have 2 columns.\n",
      "Non-text input data after encoding, the shape is (2000, 146)\n",
      "We have 146 columns.\n",
      "complete encoding part of structural data!\n",
      "Starting to encode text inputs...\n",
      "Found 2000 texts.\n",
      "tfidf X_text shape: (2000, 1000)\n",
      "complete encoding part of textual data!\n",
      "(2000, 146)\n",
      "(2000, 1000)\n",
      "Starting to encode dataset...\n",
      "Starting to encode structural data...\n",
      "Except boolean, categorical and text input data after encoding, the shape is (2000, 2)\n",
      "we have 2 columns.\n",
      "Non-text input data after encoding, the shape is (2000, 146)\n",
      "We have 146 columns.\n",
      "complete encoding part of structural data!\n",
      "Starting to encode text inputs...\n",
      "Found 2000 texts.\n"
     ]
    },
    {
     "name": "stderr",
     "output_type": "stream",
     "text": [
      "/Users/cicipan/projects/envs/lab/lib/python3.6/site-packages/sklearn/preprocessing/label.py:252: DataConversionWarning: A column-vector y was passed when a 1d array was expected. Please change the shape of y to (n_samples, ), for example using ravel().\n",
      "  y = column_or_1d(y, warn=True)\n",
      "/Users/cicipan/projects/envs/lab/lib/python3.6/site-packages/sklearn/preprocessing/label.py:252: DataConversionWarning: A column-vector y was passed when a 1d array was expected. Please change the shape of y to (n_samples, ), for example using ravel().\n",
      "  y = column_or_1d(y, warn=True)\n"
     ]
    },
    {
     "name": "stdout",
     "output_type": "stream",
     "text": [
      "tfidf X_text shape: (2000, 1000)\n",
      "complete encoding part of textual data!\n",
      "(2000, 146)\n",
      "(2000, 1000)\n",
      "Starting to encode dataset...\n",
      "Starting to encode structural data...\n",
      "Except boolean, categorical and text input data after encoding, the shape is (2000, 2)\n",
      "we have 2 columns.\n",
      "Non-text input data after encoding, the shape is (2000, 146)\n",
      "We have 146 columns.\n",
      "complete encoding part of structural data!\n",
      "Starting to encode text inputs...\n",
      "Found 2000 texts.\n",
      "tfidf X_text shape: (2000, 1000)\n",
      "complete encoding part of textual data!\n",
      "(2000, 146)\n",
      "(2000, 1000)\n"
     ]
    },
    {
     "name": "stderr",
     "output_type": "stream",
     "text": [
      "/Users/cicipan/projects/envs/lab/lib/python3.6/site-packages/sklearn/preprocessing/label.py:252: DataConversionWarning: A column-vector y was passed when a 1d array was expected. Please change the shape of y to (n_samples, ), for example using ravel().\n",
      "  y = column_or_1d(y, warn=True)\n"
     ]
    }
   ],
   "source": [
    "original_metrics = evaluate(df, encoder, model)\n",
    "\n",
    "n_samples = 10\n",
    "\n",
    "feature_importance_dict = {}\n",
    "\n",
    "label_col = 'label'\n",
    "for col in cols:\n",
    "    if col == label_col:\n",
    "        continue\n",
    "    new_metrics = []\n",
    "    for i in range(n_samples):\n",
    "        new_df = shuffle_col(df, col, seed=i)\n",
    "        metric = evaluate(new_df, encoder, model)\n",
    "        new_metrics.append(metric)\n",
    "    mean = np.mean(new_metrics)\n",
    "    feature_importance_dict[col] = original_metrics - mean"
   ]
  },
  {
   "cell_type": "code",
   "execution_count": 70,
   "metadata": {},
   "outputs": [
    {
     "name": "stdout",
     "output_type": "stream",
     "text": [
      "category_slug: 0.0887500000000001\n",
      "desc_clean: 0.029449999999999976\n",
      "goal: 0.006399999999999961\n",
      "desc_len: 0.005300000000000082\n"
     ]
    }
   ],
   "source": [
    "for col, importance in sorted(feature_importance_dict.items(), key=lambda x: x[-1], reverse=True):\n",
    "    print('{}: {}'.format(col, importance))"
   ]
  }
 ],
 "metadata": {
  "kernelspec": {
   "display_name": "Python 3",
   "language": "python",
   "name": "python3"
  },
  "language_info": {
   "codemirror_mode": {
    "name": "ipython",
    "version": 3
   },
   "file_extension": ".py",
   "mimetype": "text/x-python",
   "name": "python",
   "nbconvert_exporter": "python",
   "pygments_lexer": "ipython3",
   "version": "3.6.3"
  }
 },
 "nbformat": 4,
 "nbformat_minor": 2
}