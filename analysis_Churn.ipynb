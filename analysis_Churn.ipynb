{
 "cells": [
  {
   "cell_type": "code",
   "execution_count": 1,
   "metadata": {},
   "outputs": [],
   "source": [
    "import os\n",
    "import json\n",
    "import pickle as pkl\n",
    "import numpy as np\n",
    "import pandas as pd\n",
    "import sklearn.metrics\n",
    "\n",
    "from analysis_util import read_file, load_all, get_best_trial\n",
    "from encode_data import Encoder, Mapping\n",
    "\n",
    "def shuffle_col(df, col, seed=None):\n",
    "    new_df = df.copy()\n",
    "    if seed is None: \n",
    "        new_df[col] = np.random.permutation(new_df[col])\n",
    "    else:\n",
    "        np.random.seed(seed)\n",
    "        new_df[col] = np.random.permutation(new_df[col])\n",
    "    return new_df\n",
    "\n",
    "def evaluate(df, encoder, model):\n",
    "    y, X_struc, X_text = encoder.transform(df)\n",
    "    print(X_struc.shape)\n",
    "    print(X_text.shape)\n",
    "    preds = model.predict(X_struc, X_text)\n",
    "    acc = sklearn.metrics.accuracy_score(y, preds)\n",
    "    return acc\n"
   ]
  },
  {
   "cell_type": "code",
   "execution_count": 2,
   "outputs": [],
   "source": [
    "import tensorflow as tf"
   ],
   "metadata": {
    "collapsed": false,
    "pycharm": {
     "name": "#%%\n"
    }
   }
  },
  {
   "cell_type": "code",
   "execution_count": 3,
   "outputs": [
    {
     "data": {
      "text/plain": "0.75"
     },
     "execution_count": 3,
     "metadata": {},
     "output_type": "execute_result"
    }
   ],
   "source": [
    "m = tf.keras.metrics.AUC(num_thresholds=3)\n",
    "m.update_state([0, 0, 1, 1], [0, 0.5, 0.3, 0.9])\n",
    "# threshold values are [0 - 1e-7, 0.5, 1 + 1e-7]\n",
    "# tp = [2, 1, 0], fp = [2, 0, 0], fn = [0, 1, 2], tn = [0, 2, 2]\n",
    "# tp_rate = recall = [1, 0.5, 0], fp_rate = [1, 0, 0]\n",
    "# auc = ((((1+0.5)/2)*(1-0)) + (((0.5+0)/2)*(0-0))) = 0.75\n",
    "m.result().numpy()"
   ],
   "metadata": {
    "collapsed": false,
    "pycharm": {
     "name": "#%%\n"
    }
   }
  },
  {
   "cell_type": "code",
   "execution_count": 62,
   "metadata": {},
   "outputs": [],
   "source": [
    "output_dir = '/Users/cicipan/projects/Amplify-AutoML-Toolkit/demo/outputs/lr_outputs/'\n",
    "data_file = '/Users/cicipan/projects/Amplify-AutoML-Toolkit/demo/data/raw_data/comb_dev.tsv'\n",
    "df = read_file(data_file)"
   ]
  },
  {
   "cell_type": "code",
   "execution_count": 63,
   "metadata": {},
   "outputs": [
    {
     "name": "stdout",
     "output_type": "stream",
     "text": [
      "best metric: 0.235, best_trial: /Users/cicipan/projects/Amplify-AutoML-Toolkit/demo/outputs/lr_outputs/model_2\n"
     ]
    }
   ],
   "source": [
    "best_trial = get_best_trial(output_dir)\n",
    "model, encoder = load_all(best_trial)"
   ]
  },
  {
   "cell_type": "code",
   "execution_count": 64,
   "metadata": {},
   "outputs": [
    {
     "data": {
      "text/plain": [
       "'tfidf'"
      ]
     },
     "execution_count": 64,
     "metadata": {},
     "output_type": "execute_result"
    }
   ],
   "source": [
    "encoder.text_config.mode"
   ]
  },
  {
   "cell_type": "code",
   "execution_count": 65,
   "metadata": {},
   "outputs": [
    {
     "data": {
      "text/plain": [
       "['desc_clean', 'desc_len', 'goal', 'category_slug', 'label']"
      ]
     },
     "execution_count": 65,
     "metadata": {},
     "output_type": "execute_result"
    }
   ],
   "source": [
    "cols = list(df.columns)\n",
    "cols"
   ]
  },
  {
   "cell_type": "code",
   "execution_count": 66,
   "metadata": {},
   "outputs": [
    {
     "data": {
      "text/html": [
       "<div>\n",
       "<style scoped>\n",
       "    .dataframe tbody tr th:only-of-type {\n",
       "        vertical-align: middle;\n",
       "    }\n",
       "\n",
       "    .dataframe tbody tr th {\n",
       "        vertical-align: top;\n",
       "    }\n",
       "\n",
       "    .dataframe thead th {\n",
       "        text-align: right;\n",
       "    }\n",
       "</style>\n",
       "<table border=\"1\" class=\"dataframe\">\n",
       "  <thead>\n",
       "    <tr style=\"text-align: right;\">\n",
       "      <th></th>\n",
       "      <th>desc_clean</th>\n",
       "      <th>desc_len</th>\n",
       "      <th>goal</th>\n",
       "      <th>category_slug</th>\n",
       "      <th>label</th>\n",
       "    </tr>\n",
       "  </thead>\n",
       "  <tbody>\n",
       "    <tr>\n",
       "      <th>0</th>\n",
       "      <td>The RAYGUN GOTHIC ROCKETSHIP is an immers...</td>\n",
       "      <td>19</td>\n",
       "      <td>2500.00</td>\n",
       "      <td>art/conceptual art</td>\n",
       "      <td>0</td>\n",
       "    </tr>\n",
       "    <tr>\n",
       "      <th>1</th>\n",
       "      <td>Decibel Festival is a non-profit, four-day ann...</td>\n",
       "      <td>17</td>\n",
       "      <td>10000.00</td>\n",
       "      <td>art/digital art</td>\n",
       "      <td>0</td>\n",
       "    </tr>\n",
       "    <tr>\n",
       "      <th>2</th>\n",
       "      <td>An art project that investigates habitats and ...</td>\n",
       "      <td>21</td>\n",
       "      <td>2000.00</td>\n",
       "      <td>art/sculpture</td>\n",
       "      <td>1</td>\n",
       "    </tr>\n",
       "    <tr>\n",
       "      <th>3</th>\n",
       "      <td>I want to give away 300 paintings in three mon...</td>\n",
       "      <td>20</td>\n",
       "      <td>1824.79</td>\n",
       "      <td>art/painting</td>\n",
       "      <td>1</td>\n",
       "    </tr>\n",
       "    <tr>\n",
       "      <th>4</th>\n",
       "      <td>Miché Fambro records the long-awaited Jazz Cro...</td>\n",
       "      <td>21</td>\n",
       "      <td>5000.00</td>\n",
       "      <td>music/jazz</td>\n",
       "      <td>0</td>\n",
       "    </tr>\n",
       "  </tbody>\n",
       "</table>\n",
       "</div>"
      ],
      "text/plain": [
       "                                          desc_clean  desc_len      goal  \\\n",
       "0       The RAYGUN GOTHIC ROCKETSHIP is an immers...        19   2500.00   \n",
       "1  Decibel Festival is a non-profit, four-day ann...        17  10000.00   \n",
       "2  An art project that investigates habitats and ...        21   2000.00   \n",
       "3  I want to give away 300 paintings in three mon...        20   1824.79   \n",
       "4  Miché Fambro records the long-awaited Jazz Cro...        21   5000.00   \n",
       "\n",
       "        category_slug  label  \n",
       "0  art/conceptual art      0  \n",
       "1     art/digital art      0  \n",
       "2       art/sculpture      1  \n",
       "3        art/painting      1  \n",
       "4          music/jazz      0  "
      ]
     },
     "execution_count": 66,
     "metadata": {},
     "output_type": "execute_result"
    }
   ],
   "source": [
    "df.head()"
   ]
  },
  {
   "cell_type": "code",
   "execution_count": 67,
   "metadata": {},
   "outputs": [
    {
     "data": {
      "text/html": [
       "<div>\n",
       "<style scoped>\n",
       "    .dataframe tbody tr th:only-of-type {\n",
       "        vertical-align: middle;\n",
       "    }\n",
       "\n",
       "    .dataframe tbody tr th {\n",
       "        vertical-align: top;\n",
       "    }\n",
       "\n",
       "    .dataframe thead th {\n",
       "        text-align: right;\n",
       "    }\n",
       "</style>\n",
       "<table border=\"1\" class=\"dataframe\">\n",
       "  <thead>\n",
       "    <tr style=\"text-align: right;\">\n",
       "      <th></th>\n",
       "      <th>desc_clean</th>\n",
       "      <th>desc_len</th>\n",
       "      <th>goal</th>\n",
       "      <th>category_slug</th>\n",
       "      <th>label</th>\n",
       "    </tr>\n",
       "  </thead>\n",
       "  <tbody>\n",
       "    <tr>\n",
       "      <th>0</th>\n",
       "      <td>The premier heavy metal fest in the USA. Bring...</td>\n",
       "      <td>19</td>\n",
       "      <td>2500.00</td>\n",
       "      <td>art/conceptual art</td>\n",
       "      <td>0</td>\n",
       "    </tr>\n",
       "    <tr>\n",
       "      <th>1</th>\n",
       "      <td>Two brothers search a swathe of small town bar...</td>\n",
       "      <td>17</td>\n",
       "      <td>10000.00</td>\n",
       "      <td>art/digital art</td>\n",
       "      <td>0</td>\n",
       "    </tr>\n",
       "    <tr>\n",
       "      <th>2</th>\n",
       "      <td>I am 15 years old and have managed to get my m...</td>\n",
       "      <td>21</td>\n",
       "      <td>2000.00</td>\n",
       "      <td>art/sculpture</td>\n",
       "      <td>1</td>\n",
       "    </tr>\n",
       "    <tr>\n",
       "      <th>3</th>\n",
       "      <td>STEM video games for non-profits is our Maine ...</td>\n",
       "      <td>20</td>\n",
       "      <td>1824.79</td>\n",
       "      <td>art/painting</td>\n",
       "      <td>1</td>\n",
       "    </tr>\n",
       "    <tr>\n",
       "      <th>4</th>\n",
       "      <td>BODYlogue:Taking Space is a powerful dance con...</td>\n",
       "      <td>21</td>\n",
       "      <td>5000.00</td>\n",
       "      <td>music/jazz</td>\n",
       "      <td>0</td>\n",
       "    </tr>\n",
       "  </tbody>\n",
       "</table>\n",
       "</div>"
      ],
      "text/plain": [
       "                                          desc_clean  desc_len      goal  \\\n",
       "0  The premier heavy metal fest in the USA. Bring...        19   2500.00   \n",
       "1  Two brothers search a swathe of small town bar...        17  10000.00   \n",
       "2  I am 15 years old and have managed to get my m...        21   2000.00   \n",
       "3  STEM video games for non-profits is our Maine ...        20   1824.79   \n",
       "4  BODYlogue:Taking Space is a powerful dance con...        21   5000.00   \n",
       "\n",
       "        category_slug  label  \n",
       "0  art/conceptual art      0  \n",
       "1     art/digital art      0  \n",
       "2       art/sculpture      1  \n",
       "3        art/painting      1  \n",
       "4          music/jazz      0  "
      ]
     },
     "execution_count": 67,
     "metadata": {},
     "output_type": "execute_result"
    }
   ],
   "source": [
    "shuffle_col(df, 'desc_clean').head()"
   ]
  },
  {
   "cell_type": "code",
   "execution_count": 68,
   "metadata": {},
   "outputs": [
    {
     "name": "stdout",
     "output_type": "stream",
     "text": [
      "Starting to encode dataset...\n",
      "Starting to encode structural data...\n",
      "Except boolean, categorical and text input data after encoding, the shape is (2000, 2)\n",
      "we have 2 columns.\n",
      "Non-text input data after encoding, the shape is (2000, 146)\n",
      "We have 146 columns.\n",
      "complete encoding part of structural data!\n",
      "Starting to encode text inputs...\n",
      "Found 2000 texts.\n",
      "tfidf X_text shape: (2000, 1000)\n",
      "complete encoding part of textual data!\n",
      "(2000, 146)\n",
      "(2000, 1000)\n"
     ]
    },
    {
     "name": "stderr",
     "output_type": "stream",
     "text": [
      "/Users/cicipan/projects/envs/lab/lib/python3.6/site-packages/sklearn/preprocessing/label.py:252: DataConversionWarning: A column-vector y was passed when a 1d array was expected. Please change the shape of y to (n_samples, ), for example using ravel().\n",
      "  y = column_or_1d(y, warn=True)\n"
     ]
    },
    {
     "data": {
      "text/plain": [
       "0.765"
      ]
     },
     "execution_count": 68,
     "metadata": {},
     "output_type": "execute_result"
    }
   ],
   "source": [
    "original_metrics = evaluate(df, encoder, model)\n",
    "original_metrics"
   ]
  },
  {
   "cell_type": "code",
   "execution_count": 69,
   "metadata": {},
   "outputs": [
    {
     "name": "stdout",
     "output_type": "stream",
     "text": [
      "Starting to encode dataset...\n",
      "Starting to encode structural data...\n",
      "Except boolean, categorical and text input data after encoding, the shape is (2000, 2)\n",
      "we have 2 columns.\n",
      "Non-text input data after encoding, the shape is (2000, 146)\n",
      "We have 146 columns.\n",
      "complete encoding part of structural data!\n",
      "Starting to encode text inputs...\n",
      "Found 2000 texts.\n",
      "tfidf X_text shape: (2000, 1000)\n",
      "complete encoding part of textual data!\n",
      "(2000, 146)\n",
      "(2000, 1000)\n",
      "Starting to encode dataset...\n",
      "Starting to encode structural data...\n",
      "Except boolean, categorical and text input data after encoding, the shape is (2000, 2)\n",
      "we have 2 columns.\n",
      "Non-text input data after encoding, the shape is (2000, 146)\n",
      "We have 146 columns.\n",
      "complete encoding part of structural data!\n",
      "Starting to encode text inputs...\n",
      "Found 2000 texts.\n"
     ]
    },
    {
     "name": "stderr",
     "output_type": "stream",
     "text": [
      "/Users/cicipan/projects/envs/lab/lib/python3.6/site-packages/sklearn/preprocessing/label.py:252: DataConversionWarning: A column-vector y was passed when a 1d array was expected. Please change the shape of y to (n_samples, ), for example using ravel().\n",
      "  y = column_or_1d(y, warn=True)\n",
      "/Users/cicipan/projects/envs/lab/lib/python3.6/site-packages/sklearn/preprocessing/label.py:252: DataConversionWarning: A column-vector y was passed when a 1d array was expected. Please change the shape of y to (n_samples, ), for example using ravel().\n",
      "  y = column_or_1d(y, warn=True)\n"
     ]
    },
    {
     "name": "stdout",
     "output_type": "stream",
     "text": [
      "tfidf X_text shape: (2000, 1000)\n",
      "complete encoding part of textual data!\n",
      "(2000, 146)\n",
      "(2000, 1000)\n",
      "Starting to encode dataset...\n",
      "Starting to encode structural data...\n",
      "Except boolean, categorical and text input data after encoding, the shape is (2000, 2)\n",
      "we have 2 columns.\n",
      "Non-text input data after encoding, the shape is (2000, 146)\n",
      "We have 146 columns.\n",
      "complete encoding part of structural data!\n",
      "Starting to encode text inputs...\n",
      "Found 2000 texts.\n",
      "tfidf X_text shape: (2000, 1000)\n",
      "complete encoding part of textual data!\n",
      "(2000, 146)\n",
      "(2000, 1000)\n",
      "Starting to encode dataset...\n",
      "Starting to encode structural data...\n",
      "Except boolean, categorical and text input data after encoding, the shape is (2000, 2)\n",
      "we have 2 columns.\n",
      "Non-text input data after encoding, the shape is (2000, 146)\n",
      "We have 146 columns.\n",
      "complete encoding part of structural data!\n",
      "Starting to encode text inputs...\n",
      "Found 2000 texts.\n"
     ]
    },
    {
     "name": "stderr",
     "output_type": "stream",
     "text": [
      "/Users/cicipan/projects/envs/lab/lib/python3.6/site-packages/sklearn/preprocessing/label.py:252: DataConversionWarning: A column-vector y was passed when a 1d array was expected. Please change the shape of y to (n_samples, ), for example using ravel().\n",
      "  y = column_or_1d(y, warn=True)\n",
      "/Users/cicipan/projects/envs/lab/lib/python3.6/site-packages/sklearn/preprocessing/label.py:252: DataConversionWarning: A column-vector y was passed when a 1d array was expected. Please change the shape of y to (n_samples, ), for example using ravel().\n",
      "  y = column_or_1d(y, warn=True)\n"
     ]
    },
    {
     "name": "stdout",
     "output_type": "stream",
     "text": [
      "tfidf X_text shape: (2000, 1000)\n",
      "complete encoding part of textual data!\n",
      "(2000, 146)\n",
      "(2000, 1000)\n",
      "Starting to encode dataset...\n",
      "Starting to encode structural data...\n",
      "Except boolean, categorical and text input data after encoding, the shape is (2000, 2)\n",
      "we have 2 columns.\n",
      "Non-text input data after encoding, the shape is (2000, 146)\n",
      "We have 146 columns.\n",
      "complete encoding part of structural data!\n",
      "Starting to encode text inputs...\n",
      "Found 2000 texts.\n",
      "tfidf X_text shape: (2000, 1000)\n",
      "complete encoding part of textual data!\n",
      "(2000, 146)\n",
      "(2000, 1000)\n",
      "Starting to encode dataset...\n",
      "Starting to encode structural data...\n",
      "Except boolean, categorical and text input data after encoding, the shape is (2000, 2)\n",
      "we have 2 columns.\n"
     ]
    },
    {
     "name": "stderr",
     "output_type": "stream",
     "text": [
      "/Users/cicipan/projects/envs/lab/lib/python3.6/site-packages/sklearn/preprocessing/label.py:252: DataConversionWarning: A column-vector y was passed when a 1d array was expected. Please change the shape of y to (n_samples, ), for example using ravel().\n",
      "  y = column_or_1d(y, warn=True)\n",
      "/Users/cicipan/projects/envs/lab/lib/python3.6/site-packages/sklearn/preprocessing/label.py:252: DataConversionWarning: A column-vector y was passed when a 1d array was expected. Please change the shape of y to (n_samples, ), for example using ravel().\n",
      "  y = column_or_1d(y, warn=True)\n"
     ]
    },
    {
     "name": "stdout",
     "output_type": "stream",
     "text": [
      "Non-text input data after encoding, the shape is (2000, 146)\n",
      "We have 146 columns.\n",
      "complete encoding part of structural data!\n",
      "Starting to encode text inputs...\n",
      "Found 2000 texts.\n",
      "tfidf X_text shape: (2000, 1000)\n",
      "complete encoding part of textual data!\n",
      "(2000, 146)\n",
      "(2000, 1000)\n",
      "Starting to encode dataset...\n",
      "Starting to encode structural data...\n",
      "Except boolean, categorical and text input data after encoding, the shape is (2000, 2)\n",
      "we have 2 columns.\n",
      "Non-text input data after encoding, the shape is (2000, 146)\n",
      "We have 146 columns.\n",
      "complete encoding part of structural data!\n",
      "Starting to encode text inputs...\n",
      "Found 2000 texts.\n"
     ]
    },
    {
     "name": "stderr",
     "output_type": "stream",
     "text": [
      "/Users/cicipan/projects/envs/lab/lib/python3.6/site-packages/sklearn/preprocessing/label.py:252: DataConversionWarning: A column-vector y was passed when a 1d array was expected. Please change the shape of y to (n_samples, ), for example using ravel().\n",
      "  y = column_or_1d(y, warn=True)\n",
      "/Users/cicipan/projects/envs/lab/lib/python3.6/site-packages/sklearn/preprocessing/label.py:252: DataConversionWarning: A column-vector y was passed when a 1d array was expected. Please change the shape of y to (n_samples, ), for example using ravel().\n",
      "  y = column_or_1d(y, warn=True)\n"
     ]
    },
    {
     "name": "stdout",
     "output_type": "stream",
     "text": [
      "tfidf X_text shape: (2000, 1000)\n",
      "complete encoding part of textual data!\n",
      "(2000, 146)\n",
      "(2000, 1000)\n",
      "Starting to encode dataset...\n",
      "Starting to encode structural data...\n",
      "Except boolean, categorical and text input data after encoding, the shape is (2000, 2)\n",
      "we have 2 columns.\n",
      "Non-text input data after encoding, the shape is (2000, 146)\n",
      "We have 146 columns.\n",
      "complete encoding part of structural data!\n",
      "Starting to encode text inputs...\n",
      "Found 2000 texts.\n",
      "tfidf X_text shape: (2000, 1000)\n",
      "complete encoding part of textual data!\n",
      "(2000, 146)\n",
      "(2000, 1000)\n",
      "Starting to encode dataset...\n",
      "Starting to encode structural data...\n",
      "Except boolean, categorical and text input data after encoding, the shape is (2000, 2)\n",
      "we have 2 columns.\n",
      "Non-text input data after encoding, the shape is (2000, 146)\n",
      "We have 146 columns.\n",
      "complete encoding part of structural data!\n",
      "Starting to encode text inputs...\n"
     ]
    },
    {
     "name": "stderr",
     "output_type": "stream",
     "text": [
      "/Users/cicipan/projects/envs/lab/lib/python3.6/site-packages/sklearn/preprocessing/label.py:252: DataConversionWarning: A column-vector y was passed when a 1d array was expected. Please change the shape of y to (n_samples, ), for example using ravel().\n",
      "  y = column_or_1d(y, warn=True)\n",
      "/Users/cicipan/projects/envs/lab/lib/python3.6/site-packages/sklearn/preprocessing/label.py:252: DataConversionWarning: A column-vector y was passed when a 1d array was expected. Please change the shape of y to (n_samples, ), for example using ravel().\n",
      "  y = column_or_1d(y, warn=True)\n"
     ]
    },
    {
     "name": "stdout",
     "output_type": "stream",
     "text": [
      "Found 2000 texts.\n",
      "tfidf X_text shape: (2000, 1000)\n",
      "complete encoding part of textual data!\n",
      "(2000, 146)\n",
      "(2000, 1000)\n",
      "Starting to encode dataset...\n",
      "Starting to encode structural data...\n",
      "Except boolean, categorical and text input data after encoding, the shape is (2000, 2)\n",
      "we have 2 columns.\n",
      "Non-text input data after encoding, the shape is (2000, 146)\n",
      "We have 146 columns.\n",
      "complete encoding part of structural data!\n",
      "Starting to encode text inputs...\n",
      "Found 2000 texts.\n",
      "tfidf X_text shape: (2000, 1000)\n",
      "complete encoding part of textual data!\n",
      "(2000, 146)\n",
      "(2000, 1000)\n",
      "Starting to encode dataset...\n",
      "Starting to encode structural data...\n",
      "Except boolean, categorical and text input data after encoding, the shape is (2000, 2)\n",
      "we have 2 columns.\n",
      "Non-text input data after encoding, the shape is (2000, 146)\n",
      "We have 146 columns.\n",
      "complete encoding part of structural data!\n",
      "Starting to encode text inputs...\n",
      "Found 2000 texts.\n",
      "tfidf X_text shape: (2000, 1000)\n",
      "complete encoding part of textual data!\n",
      "(2000, 146)\n",
      "(2000, 1000)\n",
      "Starting to encode dataset...\n",
      "Starting to encode structural data...\n",
      "Except boolean, categorical and text input data after encoding, the shape is (2000, 2)\n",
      "we have 2 columns.\n",
      "Non-text input data after encoding, the shape is (2000, 146)\n",
      "We have 146 columns.\n",
      "complete encoding part of structural data!\n",
      "Starting to encode text inputs...\n",
      "Found 2000 texts.\n"
     ]
    },
    {
     "name": "stderr",
     "output_type": "stream",
     "text": [
      "/Users/cicipan/projects/envs/lab/lib/python3.6/site-packages/sklearn/preprocessing/label.py:252: DataConversionWarning: A column-vector y was passed when a 1d array was expected. Please change the shape of y to (n_samples, ), for example using ravel().\n",
      "  y = column_or_1d(y, warn=True)\n",
      "/Users/cicipan/projects/envs/lab/lib/python3.6/site-packages/sklearn/preprocessing/label.py:252: DataConversionWarning: A column-vector y was passed when a 1d array was expected. Please change the shape of y to (n_samples, ), for example using ravel().\n",
      "  y = column_or_1d(y, warn=True)\n"
     ]
    },
    {
     "name": "stdout",
     "output_type": "stream",
     "text": [
      "tfidf X_text shape: (2000, 1000)\n",
      "complete encoding part of textual data!\n",
      "(2000, 146)\n",
      "(2000, 1000)\n",
      "Starting to encode dataset...\n",
      "Starting to encode structural data...\n",
      "Except boolean, categorical and text input data after encoding, the shape is (2000, 2)\n",
      "we have 2 columns.\n",
      "Non-text input data after encoding, the shape is (2000, 146)\n",
      "We have 146 columns.\n",
      "complete encoding part of structural data!\n",
      "Starting to encode text inputs...\n",
      "Found 2000 texts.\n",
      "tfidf X_text shape: (2000, 1000)\n",
      "complete encoding part of textual data!\n",
      "(2000, 146)\n",
      "(2000, 1000)\n",
      "Starting to encode dataset...\n",
      "Starting to encode structural data...\n",
      "Except boolean, categorical and text input data after encoding, the shape is (2000, 2)\n",
      "we have 2 columns.\n",
      "Non-text input data after encoding, the shape is (2000, 146)\n",
      "We have 146 columns.\n",
      "complete encoding part of structural data!\n",
      "Starting to encode text inputs...\n",
      "Found 2000 texts.\n"
     ]
    },
    {
     "name": "stderr",
     "output_type": "stream",
     "text": [
      "/Users/cicipan/projects/envs/lab/lib/python3.6/site-packages/sklearn/preprocessing/label.py:252: DataConversionWarning: A column-vector y was passed when a 1d array was expected. Please change the shape of y to (n_samples, ), for example using ravel().\n",
      "  y = column_or_1d(y, warn=True)\n",
      "/Users/cicipan/projects/envs/lab/lib/python3.6/site-packages/sklearn/preprocessing/label.py:252: DataConversionWarning: A column-vector y was passed when a 1d array was expected. Please change the shape of y to (n_samples, ), for example using ravel().\n",
      "  y = column_or_1d(y, warn=True)\n"
     ]
    },
    {
     "name": "stdout",
     "output_type": "stream",
     "text": [
      "tfidf X_text shape: (2000, 1000)\n",
      "complete encoding part of textual data!\n",
      "(2000, 146)\n",
      "(2000, 1000)\n",
      "Starting to encode dataset...\n",
      "Starting to encode structural data...\n",
      "Except boolean, categorical and text input data after encoding, the shape is (2000, 2)\n",
      "we have 2 columns.\n",
      "Non-text input data after encoding, the shape is (2000, 146)\n",
      "We have 146 columns.\n",
      "complete encoding part of structural data!\n",
      "Starting to encode text inputs...\n",
      "Found 2000 texts.\n",
      "tfidf X_text shape: (2000, 1000)\n",
      "complete encoding part of textual data!\n",
      "(2000, 146)\n",
      "(2000, 1000)\n",
      "Starting to encode dataset...\n",
      "Starting to encode structural data...\n",
      "Except boolean, categorical and text input data after encoding, the shape is (2000, 2)\n",
      "we have 2 columns.\n",
      "Non-text input data after encoding, the shape is (2000, 146)\n",
      "We have 146 columns.\n",
      "complete encoding part of structural data!\n",
      "Starting to encode text inputs...\n",
      "Found 2000 texts.\n"
     ]
    },
    {
     "name": "stderr",
     "output_type": "stream",
     "text": [
      "/Users/cicipan/projects/envs/lab/lib/python3.6/site-packages/sklearn/preprocessing/label.py:252: DataConversionWarning: A column-vector y was passed when a 1d array was expected. Please change the shape of y to (n_samples, ), for example using ravel().\n",
      "  y = column_or_1d(y, warn=True)\n",
      "/Users/cicipan/projects/envs/lab/lib/python3.6/site-packages/sklearn/preprocessing/label.py:252: DataConversionWarning: A column-vector y was passed when a 1d array was expected. Please change the shape of y to (n_samples, ), for example using ravel().\n",
      "  y = column_or_1d(y, warn=True)\n"
     ]
    },
    {
     "name": "stdout",
     "output_type": "stream",
     "text": [
      "tfidf X_text shape: (2000, 1000)\n",
      "complete encoding part of textual data!\n",
      "(2000, 146)\n",
      "(2000, 1000)\n",
      "Starting to encode dataset...\n",
      "Starting to encode structural data...\n",
      "Except boolean, categorical and text input data after encoding, the shape is (2000, 2)\n",
      "we have 2 columns.\n",
      "Non-text input data after encoding, the shape is (2000, 146)\n",
      "We have 146 columns.\n",
      "complete encoding part of structural data!\n",
      "Starting to encode text inputs...\n",
      "Found 2000 texts.\n",
      "tfidf X_text shape: (2000, 1000)\n",
      "complete encoding part of textual data!\n",
      "(2000, 146)\n",
      "(2000, 1000)\n",
      "Starting to encode dataset...\n",
      "Starting to encode structural data...\n",
      "Except boolean, categorical and text input data after encoding, the shape is (2000, 2)\n",
      "we have 2 columns.\n",
      "Non-text input data after encoding, the shape is (2000, 146)\n",
      "We have 146 columns.\n",
      "complete encoding part of structural data!\n",
      "Starting to encode text inputs...\n",
      "Found 2000 texts.\n"
     ]
    },
    {
     "name": "stderr",
     "output_type": "stream",
     "text": [
      "/Users/cicipan/projects/envs/lab/lib/python3.6/site-packages/sklearn/preprocessing/label.py:252: DataConversionWarning: A column-vector y was passed when a 1d array was expected. Please change the shape of y to (n_samples, ), for example using ravel().\n",
      "  y = column_or_1d(y, warn=True)\n",
      "/Users/cicipan/projects/envs/lab/lib/python3.6/site-packages/sklearn/preprocessing/label.py:252: DataConversionWarning: A column-vector y was passed when a 1d array was expected. Please change the shape of y to (n_samples, ), for example using ravel().\n",
      "  y = column_or_1d(y, warn=True)\n"
     ]
    },
    {
     "name": "stdout",
     "output_type": "stream",
     "text": [
      "tfidf X_text shape: (2000, 1000)\n",
      "complete encoding part of textual data!\n",
      "(2000, 146)\n",
      "(2000, 1000)\n",
      "Starting to encode dataset...\n",
      "Starting to encode structural data...\n",
      "Except boolean, categorical and text input data after encoding, the shape is (2000, 2)\n",
      "we have 2 columns.\n",
      "Non-text input data after encoding, the shape is (2000, 146)\n",
      "We have 146 columns.\n",
      "complete encoding part of structural data!\n",
      "Starting to encode text inputs...\n",
      "Found 2000 texts.\n",
      "tfidf X_text shape: (2000, 1000)\n",
      "complete encoding part of textual data!\n",
      "(2000, 146)\n",
      "(2000, 1000)\n",
      "Starting to encode dataset...\n",
      "Starting to encode structural data...\n",
      "Except boolean, categorical and text input data after encoding, the shape is (2000, 2)\n",
      "we have 2 columns.\n",
      "Non-text input data after encoding, the shape is (2000, 146)\n",
      "We have 146 columns.\n",
      "complete encoding part of structural data!\n",
      "Starting to encode text inputs...\n",
      "Found 2000 texts.\n"
     ]
    },
    {
     "name": "stderr",
     "output_type": "stream",
     "text": [
      "/Users/cicipan/projects/envs/lab/lib/python3.6/site-packages/sklearn/preprocessing/label.py:252: DataConversionWarning: A column-vector y was passed when a 1d array was expected. Please change the shape of y to (n_samples, ), for example using ravel().\n",
      "  y = column_or_1d(y, warn=True)\n",
      "/Users/cicipan/projects/envs/lab/lib/python3.6/site-packages/sklearn/preprocessing/label.py:252: DataConversionWarning: A column-vector y was passed when a 1d array was expected. Please change the shape of y to (n_samples, ), for example using ravel().\n",
      "  y = column_or_1d(y, warn=True)\n"
     ]
    },
    {
     "name": "stdout",
     "output_type": "stream",
     "text": [
      "tfidf X_text shape: (2000, 1000)\n",
      "complete encoding part of textual data!\n",
      "(2000, 146)\n",
      "(2000, 1000)\n",
      "Starting to encode dataset...\n",
      "Starting to encode structural data...\n",
      "Except boolean, categorical and text input data after encoding, the shape is (2000, 2)\n",
      "we have 2 columns.\n",
      "Non-text input data after encoding, the shape is (2000, 146)\n",
      "We have 146 columns.\n",
      "complete encoding part of structural data!\n",
      "Starting to encode text inputs...\n",
      "Found 2000 texts.\n",
      "tfidf X_text shape: (2000, 1000)\n",
      "complete encoding part of textual data!\n",
      "(2000, 146)\n",
      "(2000, 1000)\n",
      "Starting to encode dataset...\n",
      "Starting to encode structural data...\n",
      "Except boolean, categorical and text input data after encoding, the shape is (2000, 2)\n",
      "we have 2 columns.\n",
      "Non-text input data after encoding, the shape is (2000, 146)\n",
      "We have 146 columns.\n",
      "complete encoding part of structural data!\n",
      "Starting to encode text inputs...\n",
      "Found 2000 texts.\n"
     ]
    },
    {
     "name": "stderr",
     "output_type": "stream",
     "text": [
      "/Users/cicipan/projects/envs/lab/lib/python3.6/site-packages/sklearn/preprocessing/label.py:252: DataConversionWarning: A column-vector y was passed when a 1d array was expected. Please change the shape of y to (n_samples, ), for example using ravel().\n",
      "  y = column_or_1d(y, warn=True)\n",
      "/Users/cicipan/projects/envs/lab/lib/python3.6/site-packages/sklearn/preprocessing/label.py:252: DataConversionWarning: A column-vector y was passed when a 1d array was expected. Please change the shape of y to (n_samples, ), for example using ravel().\n",
      "  y = column_or_1d(y, warn=True)\n"
     ]
    },
    {
     "name": "stdout",
     "output_type": "stream",
     "text": [
      "tfidf X_text shape: (2000, 1000)\n",
      "complete encoding part of textual data!\n",
      "(2000, 146)\n",
      "(2000, 1000)\n",
      "Starting to encode dataset...\n",
      "Starting to encode structural data...\n",
      "Except boolean, categorical and text input data after encoding, the shape is (2000, 2)\n",
      "we have 2 columns.\n",
      "Non-text input data after encoding, the shape is (2000, 146)\n",
      "We have 146 columns.\n",
      "complete encoding part of structural data!\n",
      "Starting to encode text inputs...\n",
      "Found 2000 texts.\n",
      "tfidf X_text shape: (2000, 1000)\n",
      "complete encoding part of textual data!\n",
      "(2000, 146)\n",
      "(2000, 1000)\n",
      "Starting to encode dataset...\n",
      "Starting to encode structural data...\n",
      "Except boolean, categorical and text input data after encoding, the shape is (2000, 2)\n",
      "we have 2 columns.\n",
      "Non-text input data after encoding, the shape is (2000, 146)\n",
      "We have 146 columns.\n",
      "complete encoding part of structural data!\n",
      "Starting to encode text inputs...\n",
      "Found 2000 texts.\n"
     ]
    },
    {
     "name": "stderr",
     "output_type": "stream",
     "text": [
      "/Users/cicipan/projects/envs/lab/lib/python3.6/site-packages/sklearn/preprocessing/label.py:252: DataConversionWarning: A column-vector y was passed when a 1d array was expected. Please change the shape of y to (n_samples, ), for example using ravel().\n",
      "  y = column_or_1d(y, warn=True)\n",
      "/Users/cicipan/projects/envs/lab/lib/python3.6/site-packages/sklearn/preprocessing/label.py:252: DataConversionWarning: A column-vector y was passed when a 1d array was expected. Please change the shape of y to (n_samples, ), for example using ravel().\n",
      "  y = column_or_1d(y, warn=True)\n"
     ]
    },
    {
     "name": "stdout",
     "output_type": "stream",
     "text": [
      "tfidf X_text shape: (2000, 1000)\n",
      "complete encoding part of textual data!\n",
      "(2000, 146)\n",
      "(2000, 1000)\n",
      "Starting to encode dataset...\n",
      "Starting to encode structural data...\n",
      "Except boolean, categorical and text input data after encoding, the shape is (2000, 2)\n",
      "we have 2 columns.\n",
      "Non-text input data after encoding, the shape is (2000, 146)\n",
      "We have 146 columns.\n",
      "complete encoding part of structural data!\n",
      "Starting to encode text inputs...\n",
      "Found 2000 texts.\n",
      "tfidf X_text shape: (2000, 1000)\n",
      "complete encoding part of textual data!\n",
      "(2000, 146)\n",
      "(2000, 1000)\n",
      "Starting to encode dataset...\n"
     ]
    },
    {
     "name": "stderr",
     "output_type": "stream",
     "text": [
      "/Users/cicipan/projects/envs/lab/lib/python3.6/site-packages/sklearn/preprocessing/label.py:252: DataConversionWarning: A column-vector y was passed when a 1d array was expected. Please change the shape of y to (n_samples, ), for example using ravel().\n",
      "  y = column_or_1d(y, warn=True)\n",
      "/Users/cicipan/projects/envs/lab/lib/python3.6/site-packages/sklearn/preprocessing/label.py:252: DataConversionWarning: A column-vector y was passed when a 1d array was expected. Please change the shape of y to (n_samples, ), for example using ravel().\n",
      "  y = column_or_1d(y, warn=True)\n"
     ]
    },
    {
     "name": "stdout",
     "output_type": "stream",
     "text": [
      "Starting to encode structural data...\n",
      "Except boolean, categorical and text input data after encoding, the shape is (2000, 2)\n",
      "we have 2 columns.\n",
      "Non-text input data after encoding, the shape is (2000, 146)\n",
      "We have 146 columns.\n",
      "complete encoding part of structural data!\n",
      "Starting to encode text inputs...\n",
      "Found 2000 texts.\n",
      "tfidf X_text shape: (2000, 1000)\n",
      "complete encoding part of textual data!\n",
      "(2000, 146)\n",
      "(2000, 1000)\n",
      "Starting to encode dataset...\n",
      "Starting to encode structural data...\n",
      "Except boolean, categorical and text input data after encoding, the shape is (2000, 2)\n",
      "we have 2 columns.\n",
      "Non-text input data after encoding, the shape is (2000, 146)\n",
      "We have 146 columns.\n",
      "complete encoding part of structural data!\n",
      "Starting to encode text inputs...\n",
      "Found 2000 texts.\n"
     ]
    },
    {
     "name": "stderr",
     "output_type": "stream",
     "text": [
      "/Users/cicipan/projects/envs/lab/lib/python3.6/site-packages/sklearn/preprocessing/label.py:252: DataConversionWarning: A column-vector y was passed when a 1d array was expected. Please change the shape of y to (n_samples, ), for example using ravel().\n",
      "  y = column_or_1d(y, warn=True)\n",
      "/Users/cicipan/projects/envs/lab/lib/python3.6/site-packages/sklearn/preprocessing/label.py:252: DataConversionWarning: A column-vector y was passed when a 1d array was expected. Please change the shape of y to (n_samples, ), for example using ravel().\n",
      "  y = column_or_1d(y, warn=True)\n"
     ]
    },
    {
     "name": "stdout",
     "output_type": "stream",
     "text": [
      "tfidf X_text shape: (2000, 1000)\n",
      "complete encoding part of textual data!\n",
      "(2000, 146)\n",
      "(2000, 1000)\n",
      "Starting to encode dataset...\n",
      "Starting to encode structural data...\n",
      "Except boolean, categorical and text input data after encoding, the shape is (2000, 2)\n",
      "we have 2 columns.\n",
      "Non-text input data after encoding, the shape is (2000, 146)\n",
      "We have 146 columns.\n",
      "complete encoding part of structural data!\n",
      "Starting to encode text inputs...\n",
      "Found 2000 texts.\n",
      "tfidf X_text shape: (2000, 1000)\n",
      "complete encoding part of textual data!\n",
      "(2000, 146)\n",
      "(2000, 1000)\n",
      "Starting to encode dataset...\n",
      "Starting to encode structural data...\n",
      "Except boolean, categorical and text input data after encoding, the shape is (2000, 2)\n",
      "we have 2 columns.\n",
      "Non-text input data after encoding, the shape is (2000, 146)\n",
      "We have 146 columns.\n",
      "complete encoding part of structural data!\n",
      "Starting to encode text inputs...\n",
      "Found 2000 texts.\n"
     ]
    },
    {
     "name": "stderr",
     "output_type": "stream",
     "text": [
      "/Users/cicipan/projects/envs/lab/lib/python3.6/site-packages/sklearn/preprocessing/label.py:252: DataConversionWarning: A column-vector y was passed when a 1d array was expected. Please change the shape of y to (n_samples, ), for example using ravel().\n",
      "  y = column_or_1d(y, warn=True)\n",
      "/Users/cicipan/projects/envs/lab/lib/python3.6/site-packages/sklearn/preprocessing/label.py:252: DataConversionWarning: A column-vector y was passed when a 1d array was expected. Please change the shape of y to (n_samples, ), for example using ravel().\n",
      "  y = column_or_1d(y, warn=True)\n"
     ]
    },
    {
     "name": "stdout",
     "output_type": "stream",
     "text": [
      "tfidf X_text shape: (2000, 1000)\n",
      "complete encoding part of textual data!\n",
      "(2000, 146)\n",
      "(2000, 1000)\n",
      "Starting to encode dataset...\n",
      "Starting to encode structural data...\n",
      "Except boolean, categorical and text input data after encoding, the shape is (2000, 2)\n",
      "we have 2 columns.\n",
      "Non-text input data after encoding, the shape is (2000, 146)\n",
      "We have 146 columns.\n",
      "complete encoding part of structural data!\n",
      "Starting to encode text inputs...\n",
      "Found 2000 texts.\n",
      "tfidf X_text shape: (2000, 1000)\n",
      "complete encoding part of textual data!\n",
      "(2000, 146)\n",
      "(2000, 1000)\n",
      "Starting to encode dataset...\n",
      "Starting to encode structural data...\n",
      "Except boolean, categorical and text input data after encoding, the shape is (2000, 2)\n",
      "we have 2 columns.\n",
      "Non-text input data after encoding, the shape is (2000, 146)\n",
      "We have 146 columns.\n",
      "complete encoding part of structural data!\n",
      "Starting to encode text inputs...\n",
      "Found 2000 texts.\n"
     ]
    },
    {
     "name": "stderr",
     "output_type": "stream",
     "text": [
      "/Users/cicipan/projects/envs/lab/lib/python3.6/site-packages/sklearn/preprocessing/label.py:252: DataConversionWarning: A column-vector y was passed when a 1d array was expected. Please change the shape of y to (n_samples, ), for example using ravel().\n",
      "  y = column_or_1d(y, warn=True)\n",
      "/Users/cicipan/projects/envs/lab/lib/python3.6/site-packages/sklearn/preprocessing/label.py:252: DataConversionWarning: A column-vector y was passed when a 1d array was expected. Please change the shape of y to (n_samples, ), for example using ravel().\n",
      "  y = column_or_1d(y, warn=True)\n"
     ]
    },
    {
     "name": "stdout",
     "output_type": "stream",
     "text": [
      "tfidf X_text shape: (2000, 1000)\n",
      "complete encoding part of textual data!\n",
      "(2000, 146)\n",
      "(2000, 1000)\n",
      "Starting to encode dataset...\n",
      "Starting to encode structural data...\n",
      "Except boolean, categorical and text input data after encoding, the shape is (2000, 2)\n",
      "we have 2 columns.\n",
      "Non-text input data after encoding, the shape is (2000, 146)\n",
      "We have 146 columns.\n",
      "complete encoding part of structural data!\n",
      "Starting to encode text inputs...\n",
      "Found 2000 texts.\n",
      "tfidf X_text shape: (2000, 1000)\n",
      "complete encoding part of textual data!\n",
      "(2000, 146)\n",
      "(2000, 1000)\n",
      "Starting to encode dataset...\n",
      "Starting to encode structural data...\n",
      "Except boolean, categorical and text input data after encoding, the shape is (2000, 2)\n",
      "we have 2 columns.\n",
      "Non-text input data after encoding, the shape is (2000, 146)\n",
      "We have 146 columns.\n",
      "complete encoding part of structural data!\n",
      "Starting to encode text inputs...\n",
      "Found 2000 texts.\n"
     ]
    },
    {
     "name": "stderr",
     "output_type": "stream",
     "text": [
      "/Users/cicipan/projects/envs/lab/lib/python3.6/site-packages/sklearn/preprocessing/label.py:252: DataConversionWarning: A column-vector y was passed when a 1d array was expected. Please change the shape of y to (n_samples, ), for example using ravel().\n",
      "  y = column_or_1d(y, warn=True)\n",
      "/Users/cicipan/projects/envs/lab/lib/python3.6/site-packages/sklearn/preprocessing/label.py:252: DataConversionWarning: A column-vector y was passed when a 1d array was expected. Please change the shape of y to (n_samples, ), for example using ravel().\n",
      "  y = column_or_1d(y, warn=True)\n"
     ]
    },
    {
     "name": "stdout",
     "output_type": "stream",
     "text": [
      "tfidf X_text shape: (2000, 1000)\n",
      "complete encoding part of textual data!\n",
      "(2000, 146)\n",
      "(2000, 1000)\n",
      "Starting to encode dataset...\n",
      "Starting to encode structural data...\n",
      "Except boolean, categorical and text input data after encoding, the shape is (2000, 2)\n",
      "we have 2 columns.\n",
      "Non-text input data after encoding, the shape is (2000, 146)\n",
      "We have 146 columns.\n",
      "complete encoding part of structural data!\n",
      "Starting to encode text inputs...\n",
      "Found 2000 texts.\n",
      "tfidf X_text shape: (2000, 1000)\n",
      "complete encoding part of textual data!\n",
      "(2000, 146)\n",
      "(2000, 1000)\n",
      "Starting to encode dataset...\n",
      "Starting to encode structural data...\n",
      "Except boolean, categorical and text input data after encoding, the shape is (2000, 2)\n",
      "we have 2 columns.\n",
      "Non-text input data after encoding, the shape is (2000, 146)\n",
      "We have 146 columns.\n",
      "complete encoding part of structural data!\n",
      "Starting to encode text inputs...\n"
     ]
    },
    {
     "name": "stderr",
     "output_type": "stream",
     "text": [
      "/Users/cicipan/projects/envs/lab/lib/python3.6/site-packages/sklearn/preprocessing/label.py:252: DataConversionWarning: A column-vector y was passed when a 1d array was expected. Please change the shape of y to (n_samples, ), for example using ravel().\n",
      "  y = column_or_1d(y, warn=True)\n",
      "/Users/cicipan/projects/envs/lab/lib/python3.6/site-packages/sklearn/preprocessing/label.py:252: DataConversionWarning: A column-vector y was passed when a 1d array was expected. Please change the shape of y to (n_samples, ), for example using ravel().\n",
      "  y = column_or_1d(y, warn=True)\n"
     ]
    },
    {
     "name": "stdout",
     "output_type": "stream",
     "text": [
      "Found 2000 texts.\n",
      "tfidf X_text shape: (2000, 1000)\n",
      "complete encoding part of textual data!\n",
      "(2000, 146)\n",
      "(2000, 1000)\n",
      "Starting to encode dataset...\n",
      "Starting to encode structural data...\n",
      "Except boolean, categorical and text input data after encoding, the shape is (2000, 2)\n",
      "we have 2 columns.\n",
      "Non-text input data after encoding, the shape is (2000, 146)\n",
      "We have 146 columns.\n",
      "complete encoding part of structural data!\n",
      "Starting to encode text inputs...\n",
      "Found 2000 texts.\n",
      "tfidf X_text shape: (2000, 1000)\n",
      "complete encoding part of textual data!\n",
      "(2000, 146)\n",
      "(2000, 1000)\n",
      "Starting to encode dataset...\n",
      "Starting to encode structural data...\n",
      "Except boolean, categorical and text input data after encoding, the shape is (2000, 2)\n",
      "we have 2 columns.\n",
      "Non-text input data after encoding, the shape is (2000, 146)\n",
      "We have 146 columns.\n",
      "complete encoding part of structural data!\n",
      "Starting to encode text inputs...\n",
      "Found 2000 texts.\n",
      "tfidf X_text shape: (2000, 1000)\n",
      "complete encoding part of textual data!\n",
      "(2000, 146)\n",
      "(2000, 1000)\n",
      "Starting to encode dataset...\n",
      "Starting to encode structural data...\n",
      "Except boolean, categorical and text input data after encoding, the shape is (2000, 2)\n",
      "we have 2 columns.\n",
      "Non-text input data after encoding, the shape is (2000, 146)\n",
      "We have 146 columns.\n",
      "complete encoding part of structural data!\n",
      "Starting to encode text inputs...\n",
      "Found 2000 texts.\n"
     ]
    },
    {
     "name": "stderr",
     "output_type": "stream",
     "text": [
      "/Users/cicipan/projects/envs/lab/lib/python3.6/site-packages/sklearn/preprocessing/label.py:252: DataConversionWarning: A column-vector y was passed when a 1d array was expected. Please change the shape of y to (n_samples, ), for example using ravel().\n",
      "  y = column_or_1d(y, warn=True)\n",
      "/Users/cicipan/projects/envs/lab/lib/python3.6/site-packages/sklearn/preprocessing/label.py:252: DataConversionWarning: A column-vector y was passed when a 1d array was expected. Please change the shape of y to (n_samples, ), for example using ravel().\n",
      "  y = column_or_1d(y, warn=True)\n"
     ]
    },
    {
     "name": "stdout",
     "output_type": "stream",
     "text": [
      "tfidf X_text shape: (2000, 1000)\n",
      "complete encoding part of textual data!\n",
      "(2000, 146)\n",
      "(2000, 1000)\n",
      "Starting to encode dataset...\n",
      "Starting to encode structural data...\n",
      "Except boolean, categorical and text input data after encoding, the shape is (2000, 2)\n",
      "we have 2 columns.\n",
      "Non-text input data after encoding, the shape is (2000, 146)\n",
      "We have 146 columns.\n",
      "complete encoding part of structural data!\n",
      "Starting to encode text inputs...\n",
      "Found 2000 texts.\n",
      "tfidf X_text shape: (2000, 1000)\n",
      "complete encoding part of textual data!\n",
      "(2000, 146)\n",
      "(2000, 1000)\n",
      "Starting to encode dataset...\n",
      "Starting to encode structural data...\n",
      "Except boolean, categorical and text input data after encoding, the shape is (2000, 2)\n",
      "we have 2 columns.\n",
      "Non-text input data after encoding, the shape is (2000, 146)\n",
      "We have 146 columns.\n",
      "complete encoding part of structural data!\n",
      "Starting to encode text inputs...\n",
      "Found 2000 texts.\n"
     ]
    },
    {
     "name": "stderr",
     "output_type": "stream",
     "text": [
      "/Users/cicipan/projects/envs/lab/lib/python3.6/site-packages/sklearn/preprocessing/label.py:252: DataConversionWarning: A column-vector y was passed when a 1d array was expected. Please change the shape of y to (n_samples, ), for example using ravel().\n",
      "  y = column_or_1d(y, warn=True)\n",
      "/Users/cicipan/projects/envs/lab/lib/python3.6/site-packages/sklearn/preprocessing/label.py:252: DataConversionWarning: A column-vector y was passed when a 1d array was expected. Please change the shape of y to (n_samples, ), for example using ravel().\n",
      "  y = column_or_1d(y, warn=True)\n"
     ]
    },
    {
     "name": "stdout",
     "output_type": "stream",
     "text": [
      "tfidf X_text shape: (2000, 1000)\n",
      "complete encoding part of textual data!\n",
      "(2000, 146)\n",
      "(2000, 1000)\n",
      "Starting to encode dataset...\n",
      "Starting to encode structural data...\n",
      "Except boolean, categorical and text input data after encoding, the shape is (2000, 2)\n",
      "we have 2 columns.\n",
      "Non-text input data after encoding, the shape is (2000, 146)\n",
      "We have 146 columns.\n",
      "complete encoding part of structural data!\n",
      "Starting to encode text inputs...\n",
      "Found 2000 texts.\n",
      "tfidf X_text shape: (2000, 1000)\n",
      "complete encoding part of textual data!\n",
      "(2000, 146)\n",
      "(2000, 1000)\n"
     ]
    },
    {
     "name": "stderr",
     "output_type": "stream",
     "text": [
      "/Users/cicipan/projects/envs/lab/lib/python3.6/site-packages/sklearn/preprocessing/label.py:252: DataConversionWarning: A column-vector y was passed when a 1d array was expected. Please change the shape of y to (n_samples, ), for example using ravel().\n",
      "  y = column_or_1d(y, warn=True)\n"
     ]
    }
   ],
   "source": [
    "original_metrics = evaluate(df, encoder, model)\n",
    "\n",
    "n_samples = 10\n",
    "\n",
    "feature_importance_dict = {}\n",
    "\n",
    "label_col = 'label'\n",
    "for col in cols:\n",
    "    if col == label_col:\n",
    "        continue\n",
    "    new_metrics = []\n",
    "    for i in range(n_samples):\n",
    "        new_df = shuffle_col(df, col, seed=i)\n",
    "        metric = evaluate(new_df, encoder, model)\n",
    "        new_metrics.append(metric)\n",
    "    mean = np.mean(new_metrics)\n",
    "    feature_importance_dict[col] = original_metrics - mean"
   ]
  },
  {
   "cell_type": "code",
   "execution_count": 70,
   "metadata": {},
   "outputs": [
    {
     "name": "stdout",
     "output_type": "stream",
     "text": [
      "category_slug: 0.0887500000000001\n",
      "desc_clean: 0.029449999999999976\n",
      "goal: 0.006399999999999961\n",
      "desc_len: 0.005300000000000082\n"
     ]
    }
   ],
   "source": [
    "for col, importance in sorted(feature_importance_dict.items(), key=lambda x: x[-1], reverse=True):\n",
    "    print('{}: {}'.format(col, importance))"
   ]
  }
 ],
 "metadata": {
  "kernelspec": {
   "display_name": "Python 3",
   "language": "python",
   "name": "python3"
  },
  "language_info": {
   "codemirror_mode": {
    "name": "ipython",
    "version": 3
   },
   "file_extension": ".py",
   "mimetype": "text/x-python",
   "name": "python",
   "nbconvert_exporter": "python",
   "pygments_lexer": "ipython3",
   "version": "3.6.3"
  }
 },
 "nbformat": 4,
 "nbformat_minor": 2
}