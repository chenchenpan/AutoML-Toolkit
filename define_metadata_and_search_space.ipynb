{
 "cells": [
  {
   "cell_type": "code",
   "execution_count": 3,
   "metadata": {},
   "outputs": [],
   "source": [
    "import os\n",
    "import json\n",
    "import numpy as np\n",
    "import pandas as pd\n",
    "import csv\n",
    "# pd.set_option('display.max_columns', None)\n",
    "# pd.set_option('display.max_rows', None)"
   ]
  },
  {
   "cell_type": "code",
   "execution_count": 8,
   "metadata": {},
   "outputs": [],
   "source": [
    "# data_dir = '/Users/cicipan/projects/Predict-The-Success-of-Crowdfunding/raw_data_webrobots/KICK/'\n",
    "data_dir = '/Users/cicipan/projects/Amplify-AutoML-Toolkit/Demo_data/'"
   ]
  },
  {
   "cell_type": "markdown",
   "metadata": {},
   "source": [
    "## create metadata "
   ]
  },
  {
   "cell_type": "code",
   "execution_count": 3,
   "metadata": {},
   "outputs": [],
   "source": [
    "def check_cols_dtype(df_path):\n",
    "    df = pd.read_csv(df_path, sep='\\t')\n",
    "#     print(df.head(3))\n",
    "    col_list = list(df.columns)\n",
    "    print(col_list)\n",
    "    print(df.dtypes)\n",
    "    "
   ]
  },
  {
   "cell_type": "code",
   "execution_count": 4,
   "metadata": {},
   "outputs": [],
   "source": [
    "train_path = os.path.join(data_dir, 'textandmeta_train.tsv')\n",
    "# dev_path = 'KICK/textandmeta_dev.tsv'\n",
    "# test_path = 'KICK/textandmeta_test.tsv'"
   ]
  },
  {
   "cell_type": "code",
   "execution_count": 9,
   "metadata": {},
   "outputs": [
    {
     "data": {
      "text/html": [
       "<div>\n",
       "<style scoped>\n",
       "    .dataframe tbody tr th:only-of-type {\n",
       "        vertical-align: middle;\n",
       "    }\n",
       "\n",
       "    .dataframe tbody tr th {\n",
       "        vertical-align: top;\n",
       "    }\n",
       "\n",
       "    .dataframe thead th {\n",
       "        text-align: right;\n",
       "    }\n",
       "</style>\n",
       "<table border=\"1\" class=\"dataframe\">\n",
       "  <thead>\n",
       "    <tr style=\"text-align: right;\">\n",
       "      <th></th>\n",
       "      <th>desc_clean</th>\n",
       "      <th>desc_len</th>\n",
       "      <th>goal</th>\n",
       "      <th>category_slug</th>\n",
       "      <th>label</th>\n",
       "    </tr>\n",
       "  </thead>\n",
       "  <tbody>\n",
       "    <tr>\n",
       "      <th>0</th>\n",
       "      <td>Graff shows in Bakersfield  / California with ...</td>\n",
       "      <td>9</td>\n",
       "      <td>5000.0</td>\n",
       "      <td>art/painting</td>\n",
       "      <td>0</td>\n",
       "    </tr>\n",
       "    <tr>\n",
       "      <th>1</th>\n",
       "      <td>TIM makes influencers marketing accessible for...</td>\n",
       "      <td>17</td>\n",
       "      <td>10000.0</td>\n",
       "      <td>technology/web</td>\n",
       "      <td>1</td>\n",
       "    </tr>\n",
       "    <tr>\n",
       "      <th>2</th>\n",
       "      <td>#gardening #selfsustainability</td>\n",
       "      <td>2</td>\n",
       "      <td>300.0</td>\n",
       "      <td>food/farmer's markets</td>\n",
       "      <td>0</td>\n",
       "    </tr>\n",
       "    <tr>\n",
       "      <th>3</th>\n",
       "      <td>Using a framework that ensures for resiliency ...</td>\n",
       "      <td>19</td>\n",
       "      <td>3000.0</td>\n",
       "      <td>journalism</td>\n",
       "      <td>1</td>\n",
       "    </tr>\n",
       "    <tr>\n",
       "      <th>4</th>\n",
       "      <td>This is a project to create a free iPhone app ...</td>\n",
       "      <td>26</td>\n",
       "      <td>99.0</td>\n",
       "      <td>technology/software</td>\n",
       "      <td>1</td>\n",
       "    </tr>\n",
       "  </tbody>\n",
       "</table>\n",
       "</div>"
      ],
      "text/plain": [
       "                                          desc_clean  desc_len     goal  \\\n",
       "0  Graff shows in Bakersfield  / California with ...         9   5000.0   \n",
       "1  TIM makes influencers marketing accessible for...        17  10000.0   \n",
       "2                     #gardening #selfsustainability         2    300.0   \n",
       "3  Using a framework that ensures for resiliency ...        19   3000.0   \n",
       "4  This is a project to create a free iPhone app ...        26     99.0   \n",
       "\n",
       "           category_slug  label  \n",
       "0           art/painting      0  \n",
       "1         technology/web      1  \n",
       "2  food/farmer's markets      0  \n",
       "3             journalism      1  \n",
       "4    technology/software      1  "
      ]
     },
     "execution_count": 9,
     "metadata": {},
     "output_type": "execute_result"
    }
   ],
   "source": [
    "dev_df = pd.read_csv(train_path, sep='\\t')\n",
    "dev_df.head()"
   ]
  },
  {
   "cell_type": "code",
   "execution_count": 5,
   "metadata": {},
   "outputs": [
    {
     "name": "stdout",
     "output_type": "stream",
     "text": [
      "['desc_clean', 'desc_len', 'goal', 'category_slug', 'label']\n",
      "desc_clean        object\n",
      "desc_len           int64\n",
      "goal             float64\n",
      "category_slug     object\n",
      "label              int64\n",
      "dtype: object\n"
     ]
    }
   ],
   "source": [
    "check_cols_dtype(train_path)"
   ]
  },
  {
   "cell_type": "code",
   "execution_count": 44,
   "metadata": {},
   "outputs": [],
   "source": [
    "## create metadata file and save it in json \n",
    "\n",
    "metadata = {}\n",
    "metadata['output_type'] = 'classes'\n",
    "metadata['input_features'] = ['desc_clean', 'desc_len', 'goal', 'category_slug']\n",
    "metadata['output_label'] = ['label']\n",
    "metadata['input_text'] = ['desc_clean']\n",
    "metadata['input_float'] = [] # ['goal']\n",
    "metadata['input_int'] = [] # ['desc_len']\n",
    "metadata['input_categorical'] = [] # ['category_slug']\n",
    "metadata['input_datetime'] = []\n",
    "metadata['input_bool'] = []\n",
    "\n",
    "with open(os.path.join(data_dir,'metadata_debug.json'), 'w') as f:\n",
    "    json.dump(metadata, f)"
   ]
  },
  {
   "cell_type": "code",
   "execution_count": 46,
   "metadata": {},
   "outputs": [],
   "source": [
    "## create metadata file and save it in json \n",
    "\n",
    "metadata = {}\n",
    "metadata['output_type'] = 'classes'\n",
    "metadata['input_features'] = ['desc_clean', 'desc_len', 'goal', 'category_slug']\n",
    "metadata['output_label'] = ['label']\n",
    "metadata['input_text'] = ['desc_clean']\n",
    "metadata['input_float'] = ['goal']\n",
    "metadata['input_int'] = ['desc_len']\n",
    "metadata['input_categorical'] = ['category_slug']\n",
    "metadata['input_datetime'] = []\n",
    "metadata['input_bool'] = []\n",
    "\n",
    "with open(os.path.join(data_dir,'metadata_comb.json'), 'w') as f:\n",
    "    json.dump(metadata, f)"
   ]
  },
  {
   "cell_type": "code",
   "execution_count": 32,
   "metadata": {},
   "outputs": [],
   "source": [
    "metadata = {}\n",
    "metadata['output_type'] = 'classes'\n",
    "metadata['input_features'] = ['desc_len', 'goal', 'category_slug']\n",
    "metadata['output_label'] = ['label']\n",
    "metadata['input_text'] = []\n",
    "metadata['input_float'] = ['goal']\n",
    "metadata['input_int'] = ['desc_len']\n",
    "metadata['input_categorical'] = ['category_slug']\n",
    "metadata['input_datetime'] = []\n",
    "metadata['input_bool'] = []\n",
    "\n",
    "with open(os.path.join(data_dir,'metadata_struc_only.json'), 'w') as f:\n",
    "    json.dump(metadata, f, indent=4)"
   ]
  },
  {
   "cell_type": "code",
   "execution_count": 34,
   "metadata": {},
   "outputs": [],
   "source": [
    "metadata = {}\n",
    "metadata['output_type'] = 'classes'\n",
    "metadata['input_features'] = ['desc_clean']\n",
    "metadata['output_label'] = ['label']\n",
    "metadata['input_text'] = ['desc_clean']\n",
    "metadata['input_float'] = []\n",
    "metadata['input_int'] = []\n",
    "metadata['input_categorical'] = []\n",
    "metadata['input_datetime'] = []\n",
    "metadata['input_bool'] = []\n",
    "\n",
    "with open(os.path.join(data_dir,'metadata_text_only.json'), 'w') as f:\n",
    "    json.dump(metadata, f)"
   ]
  },
  {
   "cell_type": "code",
   "execution_count": null,
   "metadata": {},
   "outputs": [],
   "source": []
  },
  {
   "cell_type": "markdown",
   "metadata": {},
   "source": [
    "## define search space file"
   ]
  },
  {
   "cell_type": "code",
   "execution_count": 43,
   "metadata": {},
   "outputs": [],
   "source": [
    "search_space = {\n",
    "    'hidden_size_dense': ('log_int', [10, 300]),\n",
    "    'hidden_size_lstm': ('log_int', [10, 300]),\n",
    "    'hidden_size_output': ('log_int', [10, 300]),\n",
    "    'learning_rate': ('log_cont', [0.0001, 1]),\n",
    "    'dropout_rate': ('linear_cont', [0, 1]),\n",
    "    'n_layers_dense': ('linear_int', [1, 5]),\n",
    "    'n_layers_lstm': ('linear_int', [1, 5]),\n",
    "    'n_layers_output': ('linear_int', [1, 5]),\n",
    "    'n_epochs': ('linear_int', [1, 10]),\n",
    "    'patience': ('category', [20, 50]),\n",
    "    'batch_size': ('category', [64, 128, 256]),\n",
    "    'optimizer': ('category', ['adam', 'sgd', 'rmsprop'])\n",
    "}\n",
    "\n",
    "search_space_path = os.path.join(data_dir, 'nn_search_space.json')\n",
    "with open(search_space_path, 'w') as f:\n",
    "    json.dump(search_space, f, indent=4)"
   ]
  },
  {
   "cell_type": "code",
   "execution_count": 13,
   "metadata": {},
   "outputs": [],
   "source": [
    "search_space = {\n",
    "    'n_trees': ('linear_int', [10, 30]),\n",
    "}\n",
    "\n",
    "search_space_path = os.path.join(data_dir, 'rf_search_space.json')\n",
    "with open(search_space_path, 'w') as f:\n",
    "    json.dump(search_space, f, indent=4)"
   ]
  },
  {
   "cell_type": "code",
   "execution_count": 14,
   "metadata": {},
   "outputs": [],
   "source": [
    "search_space = {\n",
    "    'C': ('log_int', [0.01, 100.0]),\n",
    "}\n",
    "\n",
    "search_space_path = os.path.join(data_dir, 'lr_search_space.json')\n",
    "with open(search_space_path, 'w') as f:\n",
    "    json.dump(search_space, f, indent=4)"
   ]
  },
  {
   "cell_type": "code",
   "execution_count": 15,
   "metadata": {},
   "outputs": [],
   "source": [
    "search_space = {\n",
    "    'C': ('log_int', [0.01, 100.0]),\n",
    "}\n",
    "\n",
    "search_space_path = os.path.join(data_dir, 'svm_search_space.json')\n",
    "with open(search_space_path, 'w') as f:\n",
    "    json.dump(search_space, f, indent=4)"
   ]
  },
  {
   "cell_type": "code",
   "execution_count": null,
   "metadata": {},
   "outputs": [],
   "source": []
  }
 ],
 "metadata": {
  "kernelspec": {
   "display_name": "Python 3",
   "language": "python",
   "name": "python3"
  },
  "language_info": {
   "codemirror_mode": {
    "name": "ipython",
    "version": 3
   },
   "file_extension": ".py",
   "mimetype": "text/x-python",
   "name": "python",
   "nbconvert_exporter": "python",
   "pygments_lexer": "ipython3",
   "version": "3.6.3"
  }
 },
 "nbformat": 4,
 "nbformat_minor": 2
}
